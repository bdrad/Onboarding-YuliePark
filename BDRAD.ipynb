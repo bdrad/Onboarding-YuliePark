{
  "nbformat": 4,
  "nbformat_minor": 0,
  "metadata": {
    "colab": {
      "name": "BDRAD.ipynb",
      "provenance": [],
      "collapsed_sections": []
    },
    "kernelspec": {
      "name": "python3",
      "display_name": "Python 3"
    }
  },
  "cells": [
    {
      "cell_type": "markdown",
      "metadata": {
        "id": "awvZrWXWQZPD"
      },
      "source": [
        "# **Setup**\n"
      ]
    },
    {
      "cell_type": "code",
      "metadata": {
        "id": "uV6MOKqIOQaQ",
        "outputId": "7618bd5e-d43d-4c2f-94fc-df835bf32d0c",
        "colab": {
          "base_uri": "https://localhost:8080/"
        }
      },
      "source": [
        "!pip install pydicom"
      ],
      "execution_count": 2,
      "outputs": [
        {
          "output_type": "stream",
          "text": [
            "Collecting pydicom\n",
            "\u001b[?25l  Downloading https://files.pythonhosted.org/packages/72/7b/6ed88f82dd33a32cdb43432dab7f84fcd40c49d63251442b3cfe0be983d4/pydicom-2.1.1-py3-none-any.whl (1.9MB)\n",
            "\u001b[K     |████████████████████████████████| 1.9MB 5.6MB/s \n",
            "\u001b[?25hInstalling collected packages: pydicom\n",
            "Successfully installed pydicom-2.1.1\n"
          ],
          "name": "stdout"
        }
      ]
    },
    {
      "cell_type": "code",
      "metadata": {
        "id": "sQTtjXzwJh3S"
      },
      "source": [
        "import pydicom as pdm\n",
        "import skimage as sk\n",
        "import matplotlib.pyplot as plt\n",
        "import numpy as np\n",
        "import pandas as pd\n",
        "import tensorflow as tf\n",
        "import os\n",
        "import cv2\n",
        "\n",
        "from skimage.transform import resize\n",
        "from skimage.io import imread\n",
        "from tensorflow import keras\n",
        "from tensorflow.keras import layers\n",
        "from tensorflow.keras.models import Sequential"
      ],
      "execution_count": 3,
      "outputs": []
    },
    {
      "cell_type": "code",
      "metadata": {
        "id": "PggBthhEJskr",
        "outputId": "8bd99a62-c481-4291-b893-841647005436",
        "colab": {
          "base_uri": "https://localhost:8080/",
          "height": 52
        }
      },
      "source": [
        "from google.colab import drive\n",
        "drive.mount('/content/gdrive')\n",
        "# drive.flush_and_unmount()\n",
        "os.chdir(\"/content/gdrive/My Drive/Colab Notebooks/data\")\n",
        "os.getcwd()"
      ],
      "execution_count": 4,
      "outputs": [
        {
          "output_type": "stream",
          "text": [
            "Mounted at /content/gdrive\n"
          ],
          "name": "stdout"
        },
        {
          "output_type": "execute_result",
          "data": {
            "application/vnd.google.colaboratory.intrinsic+json": {
              "type": "string"
            },
            "text/plain": [
              "'/content/gdrive/My Drive/Colab Notebooks/data'"
            ]
          },
          "metadata": {
            "tags": []
          },
          "execution_count": 4
        }
      ]
    },
    {
      "cell_type": "markdown",
      "metadata": {
        "id": "mn7cUWVgQoFY"
      },
      "source": [
        "# **Part 1: Working with image files**\n",
        "*   Load DICOM or PNG file.\n",
        "*   Resize the image to user-specified dimensions (e.g. 229 x 229).\n",
        "*   Write the resized image to numpy .npy files.\n",
        "*   Combine the .npy files with breast density information. Store this into numpyz .npz files.\n",
        "\n"
      ]
    },
    {
      "cell_type": "code",
      "metadata": {
        "id": "8pCA9euFTlCe"
      },
      "source": [
        "def resize_image(filepath, custom_shape, verbose=False):\n",
        "  assert os.path.exists(filepath), \"ERROR: file \" + filepath + \" not found!\"\n",
        "\n",
        "  if filepath.endswith(\".png\"):\n",
        "    png_ndarray = imread(filepath)\n",
        "    print_msg(\"Resizing PNG file...\", verbose)\n",
        "    png_resized = resize(image=png_ndarray, output_shape=custom_shape, anti_aliasing=False)\n",
        "    print_msg(\"Success.\", verbose)\n",
        "    return (png_ndarray, png_resized)\n",
        "\n",
        "  else:\n",
        "    print_msg(\"Reading DICOM file...\", verbose)\n",
        "    dicom_dataset = pdm.dcmread(fp=filepath, defer_size=None, force=True)\n",
        "    if not filepath.endswith(\"dcm\"):\n",
        "      print_msg(\"Decompressing DICOM file...\", verbose)\n",
        "      dicom_dataset = dicom_dataset.decompress()\n",
        "    dicom_ndarray = dicom_dataset.pixel_array\n",
        "    # plt.imshow(dicom_ndarray, cmap=plt.cm.gray)\n",
        "    # plt.show()\n",
        "    print_msg(\"Success.\", verbose)\n",
        "\n",
        "    print_msg(\"Resizing DICOM file...\", verbose)\n",
        "    dicom_resized = resize(image=dicom_ndarray, output_shape=custom_shape, anti_aliasing=False)\n",
        "    print_msg(\"Success.\", verbose) \n",
        "    # plt.imshow(dicom_resized, cmap=plt.cm.gray)\n",
        "    # plt.show()\n",
        "\n",
        "    return (dicom_dataset, dicom_resized)"
      ],
      "execution_count": 5,
      "outputs": []
    },
    {
      "cell_type": "code",
      "metadata": {
        "id": "5LIqShYpbMht"
      },
      "source": [
        "def save_to_npy(save_to, arr_data, verbose=False):\n",
        "  print_msg(\"Saving to npy file...\", verbose)\n",
        "  npy_path = save_to + \".npy\"\n",
        "  np.save(npy_path, arr_data)\n",
        "  print_msg(\"Success.\", verbose)\n",
        "  return npy_path"
      ],
      "execution_count": 6,
      "outputs": []
    },
    {
      "cell_type": "code",
      "metadata": {
        "id": "ztEx2YT3TsY1"
      },
      "source": [
        "def save_to_npz(save_to, read_from, breast_density, verbose=False):\n",
        "  print_msg(\"Loading npy file \" + read_from + \"...\", verbose)\n",
        "  resized_arr = np.load(file=read_from, allow_pickle=False)\n",
        "  num_rows, num_cols = resized_arr.shape\n",
        "  print_msg(\"Success.\", verbose)\n",
        "\n",
        "  print_msg(\"Creating new data with breast_density ...\", verbose)\n",
        "  new_arr = np.zeros((num_rows + 1, num_cols))\n",
        "  for i in range(num_rows):\n",
        "    new_arr[i] = resized_arr[i,:]\n",
        "  new_arr[num_rows] = np.full(shape=(num_cols,), fill_value=breast_density)\n",
        "  print_msg(\"Success.\", verbose)\n",
        "\n",
        "  npz_path = save_to + \".npz\"\n",
        "  print_msg(\"Saving to npz file \" + npz_path + \"...\", verbose)\n",
        "  np.savez(npz_path, new_arr)\n",
        "  print_msg(\"Success.\", verbose)\n",
        "\n",
        "  return npz_path"
      ],
      "execution_count": 7,
      "outputs": []
    },
    {
      "cell_type": "code",
      "metadata": {
        "id": "MDdYjDBAbZ25"
      },
      "source": [
        "def get_patient_id(filepath):\n",
        "  i = filepath.index(\"P_\") + 2\n",
        "  patient_id = \"P_\"\n",
        "  while filepath[i].isnumeric():\n",
        "    patient_id += filepath[i]\n",
        "    i += 1\n",
        "  print(\"patient id is \" + patient_id)\n",
        "  return patient_id"
      ],
      "execution_count": 8,
      "outputs": []
    },
    {
      "cell_type": "code",
      "metadata": {
        "id": "lFM8HND8bcPp"
      },
      "source": [
        "def get_breast_density(df, patient_id):\n",
        "  breast_density = df.loc[patient_id, \"breast_density\"]\n",
        "  if breast_density.size > 1:\n",
        "    breast_density = breast_density[0]\n",
        "  return breast_density"
      ],
      "execution_count": 9,
      "outputs": []
    },
    {
      "cell_type": "code",
      "metadata": {
        "id": "8eE_wkWibeRT"
      },
      "source": [
        "def get_image_files(dir_path):\n",
        "  print(\"getting image files...\")\n",
        "  train_files = {}\n",
        "  test_files = {}\n",
        "  for root, dirs, files in os.walk(dir_path):\n",
        "    if files and files[0].endswith(\".dcm\"):\n",
        "      if \"Training\" in root:\n",
        "        train_files[root] = files[0]\n",
        "      elif \"Test\" in root:\n",
        "        test_files[root] = files[0]\n",
        "  print(\"done getting image files!\")\n",
        "  return (train_files, test_files)"
      ],
      "execution_count": 10,
      "outputs": []
    },
    {
      "cell_type": "code",
      "metadata": {
        "id": "JpOSbRJwbg8f"
      },
      "source": [
        "def get_scan_type(filepath):\n",
        "  scan_type = \"LEFT_\" if \"LEFT_\" in filepath else \"RIGHT_\"\n",
        "  scan_type += \"CC\" if \"CC\" in filepath else \"MLO\"\n",
        "  return scan_type"
      ],
      "execution_count": 11,
      "outputs": []
    },
    {
      "cell_type": "code",
      "metadata": {
        "id": "msNGCLJEb874"
      },
      "source": [
        "def print_msg(msg, verbose):\n",
        "  if verbose:\n",
        "    print(msg)"
      ],
      "execution_count": 12,
      "outputs": []
    },
    {
      "cell_type": "code",
      "metadata": {
        "id": "3d1OWj-5cGKg"
      },
      "source": [
        "def sort_npy_npz_files(dir):\n",
        "  npy_dir = os.path.join(dir, \"npy files\")\n",
        "  if not os.path.exists(npy_dir):\n",
        "    os.mkdir(npy_dir)\n",
        "  npz_dir = os.path.join(dir, \"npz files\")\n",
        "  if not os.path.exists(npz_dir):\n",
        "    os.mkdir(npz_dir)\n",
        "  for f in os.listdir(dir):\n",
        "    if f.endswith(\".npy\"):\n",
        "      os.rename(os.path.join(dir, f), os.path.join(dir, npy_dir, f))\n",
        "    elif f.endswith(\".npz\"):\n",
        "      os.rename(os.path.join(dir, f), os.path.join(dir, npz_dir, f))"
      ],
      "execution_count": 13,
      "outputs": []
    },
    {
      "cell_type": "code",
      "metadata": {
        "id": "Xk8ENoqVbiaA"
      },
      "source": [
        "def main_helper(files_dict, df, resize_shape=(229, 229), save=True, verbose=False):\n",
        "  \n",
        "  data = []\n",
        "  labels = []\n",
        "\n",
        "  for fpath in files_dict:\n",
        "    patient_id = get_patient_id(fpath)\n",
        "    scan_type = get_scan_type(fpath)\n",
        "    breast_density = get_breast_density(df, patient_id)\n",
        "    image_fp = files_dict[fpath]\n",
        "\n",
        "    dataset, resized_ndarray = resize_image(filepath=os.path.join(fpath, image_fp), custom_shape=resize_shape, verbose=verbose)\n",
        "    np_path = os.path.join(os.getcwd(), patient_id + \"_\" + scan_type)\n",
        "    npy_path = save_to_npy(save_to=np_path, arr_data=resized_ndarray, verbose=verbose)\n",
        "    npz_path = save_to_npz(save_to=np_path, read_from=npy_path, breast_density=breast_density)\n",
        "    sort_npy_npz_files(os.getcwd())\n",
        "\n",
        "    data.append(resized_ndarray)\n",
        "    labels.append(0 if breast_density <= 2 else 1) # not dense for 1, 2 ; dense for 3, 4\n",
        "\n",
        "  return (data, labels)"
      ],
      "execution_count": 14,
      "outputs": []
    },
    {
      "cell_type": "code",
      "metadata": {
        "id": "AbICoNezbkjg"
      },
      "source": [
        "def main(dir_path, resize_shape=(229, 229), save=True, verbose=False):\n",
        "  train_csv = os.path.join(os.getcwd(), \"mass_case_description_train_set.csv\")\n",
        "  test_csv = os.path.join(os.getcwd(), \"mass_case_description_test_set.csv\")\n",
        "  train_df = pd.read_csv(train_csv, index_col=\"patient_id\")\n",
        "  test_df = pd.read_csv(test_csv, index_col=\"patient_id\")\n",
        "\n",
        "  train_files, test_files = get_image_files(dir_path)\n",
        "\n",
        "  train_data, train_labels = main_helper(train_files, train_df, resize_shape, save, verbose)\n",
        "  test_data, test_labels = main_helper(test_files, test_df, resize_shape, save, verbose)\n",
        "  return (train_data, train_labels, test_data, test_labels)"
      ],
      "execution_count": 15,
      "outputs": []
    },
    {
      "cell_type": "markdown",
      "metadata": {
        "id": "Zf65aFCubuEv"
      },
      "source": [
        "# **Testing**"
      ]
    },
    {
      "cell_type": "code",
      "metadata": {
        "id": "1q8g9uEbA6AX",
        "outputId": "d011c4e7-8810-4a90-a625-13243fa530f0",
        "colab": {
          "base_uri": "https://localhost:8080/"
        }
      },
      "source": [
        "dir_path = os.getcwd()\n",
        "train_validation_data, train_validation_labels, test_data, test_labels = main(dir_path, verbose=False)"
      ],
      "execution_count": 16,
      "outputs": [
        {
          "output_type": "stream",
          "text": [
            "getting image files...\n",
            "done getting image files!\n",
            "patient id is P_00229\n",
            "patient id is P_00058\n",
            "patient id is P_00187\n",
            "patient id is P_00304\n",
            "patient id is P_00247\n",
            "patient id is P_00045\n",
            "patient id is P_00160\n",
            "patient id is P_00055\n",
            "patient id is P_00351\n",
            "patient id is P_00044\n",
            "patient id is P_00068\n",
            "patient id is P_00330\n",
            "patient id is P_00376\n",
            "patient id is P_00224\n",
            "patient id is P_00242\n",
            "patient id is P_00396\n",
            "patient id is P_00134\n",
            "patient id is P_00208\n",
            "patient id is P_00264\n",
            "patient id is P_00348\n",
            "patient id is P_00303\n",
            "patient id is P_00027\n",
            "patient id is P_00080\n",
            "patient id is P_00094\n",
            "patient id is P_00289\n",
            "patient id is P_00235\n",
            "patient id is P_00283\n",
            "patient id is P_00294\n",
            "patient id is P_00207\n",
            "patient id is P_00120\n",
            "patient id is P_00224\n",
            "patient id is P_00231\n",
            "patient id is P_00205\n",
            "patient id is P_00313\n",
            "patient id is P_00298\n",
            "patient id is P_00190\n",
            "patient id is P_00332\n",
            "patient id is P_00001\n",
            "patient id is P_00039\n",
            "patient id is P_00175\n",
            "patient id is P_00021\n",
            "patient id is P_00092\n",
            "patient id is P_00289\n",
            "patient id is P_00108\n",
            "patient id is P_00094\n",
            "patient id is P_00241\n",
            "patient id is P_00314\n",
            "patient id is P_00146\n",
            "patient id is P_00412\n",
            "patient id is P_00092\n",
            "patient id is P_00332\n",
            "patient id is P_00137\n",
            "patient id is P_00044\n",
            "patient id is P_00086\n",
            "patient id is P_00351\n",
            "patient id is P_00207\n",
            "patient id is P_00001\n",
            "patient id is P_00319\n",
            "patient id is P_00217\n",
            "patient id is P_00026\n",
            "patient id is P_00236\n",
            "patient id is P_00045\n",
            "patient id is P_00076\n",
            "patient id is P_00146\n",
            "patient id is P_00370\n",
            "patient id is P_00283\n",
            "patient id is P_00314\n",
            "patient id is P_00259\n",
            "patient id is P_00408\n",
            "patient id is P_00122\n",
            "patient id is P_00137\n",
            "patient id is P_00386\n",
            "patient id is P_00108\n",
            "patient id is P_00363\n",
            "patient id is P_00092\n",
            "patient id is P_00254\n",
            "patient id is P_00064\n",
            "patient id is P_00172\n",
            "patient id is P_00330\n",
            "patient id is P_00414\n",
            "patient id is P_00187\n",
            "patient id is P_00411\n",
            "patient id is P_00320\n",
            "patient id is P_00174\n",
            "patient id is P_00175\n",
            "patient id is P_00320\n",
            "patient id is P_00095\n",
            "patient id is P_00313\n",
            "patient id is P_00034\n",
            "patient id is P_00229\n",
            "patient id is P_00081\n",
            "patient id is P_00174\n",
            "patient id is P_00061\n",
            "patient id is P_00225\n",
            "patient id is P_00039\n",
            "patient id is P_00333\n",
            "patient id is P_00160\n",
            "patient id is P_00225\n",
            "patient id is P_00342\n",
            "patient id is P_00224\n",
            "patient id is P_00057\n",
            "patient id is P_00303\n",
            "patient id is P_00172\n",
            "patient id is P_00298\n",
            "patient id is P_00240\n",
            "patient id is P_00059\n",
            "patient id is P_00034\n",
            "patient id is P_00110\n",
            "patient id is P_00018\n",
            "patient id is P_00239\n",
            "patient id is P_00248\n",
            "patient id is P_00109\n",
            "patient id is P_00408\n",
            "patient id is P_00119\n",
            "patient id is P_00166\n",
            "patient id is P_00309\n",
            "patient id is P_00399\n",
            "patient id is P_00119\n",
            "patient id is P_00023\n",
            "patient id is P_00095\n",
            "patient id is P_00046\n",
            "patient id is P_00264\n",
            "patient id is P_00259\n",
            "patient id is P_00199\n",
            "patient id is P_00385\n",
            "patient id is P_00384\n",
            "patient id is P_00079\n",
            "patient id is P_00090\n",
            "patient id is P_00385\n",
            "patient id is P_00218\n",
            "patient id is P_00328\n",
            "patient id is P_00133\n",
            "patient id is P_00281\n",
            "patient id is P_00134\n",
            "patient id is P_00106\n",
            "patient id is P_00303\n",
            "patient id is P_00074\n",
            "patient id is P_00090\n",
            "patient id is P_00317\n",
            "patient id is P_00009\n",
            "patient id is P_00389\n",
            "patient id is P_00287\n",
            "patient id is P_00273\n",
            "patient id is P_00226\n",
            "patient id is P_00096\n",
            "patient id is P_00215\n",
            "patient id is P_00383\n",
            "patient id is P_00041\n",
            "patient id is P_00149\n",
            "patient id is P_00406\n",
            "patient id is P_00241\n",
            "patient id is P_00004\n",
            "patient id is P_00411\n",
            "patient id is P_00027\n",
            "patient id is P_00412\n",
            "patient id is P_00096\n",
            "patient id is P_00401\n",
            "patient id is P_00240\n",
            "patient id is P_00356\n",
            "patient id is P_00218\n",
            "patient id is P_00021\n",
            "patient id is P_00015\n",
            "patient id is P_00018\n",
            "patient id is P_00166\n",
            "patient id is P_00239\n",
            "patient id is P_00376\n",
            "patient id is P_00332\n",
            "patient id is P_00054\n",
            "patient id is P_00110\n",
            "patient id is P_00061\n",
            "patient id is P_00149\n",
            "patient id is P_00287\n",
            "patient id is P_00106\n",
            "patient id is P_00065\n",
            "patient id is P_00303\n",
            "patient id is P_00117\n",
            "patient id is P_00342\n",
            "patient id is P_00231\n",
            "patient id is P_00399\n",
            "patient id is P_00366\n",
            "patient id is P_00160\n",
            "patient id is P_00226\n",
            "patient id is P_00401\n",
            "patient id is P_00023\n",
            "patient id is P_00406\n",
            "patient id is P_00021\n",
            "patient id is P_00081\n",
            "patient id is P_00334\n",
            "patient id is P_00254\n",
            "patient id is P_00080\n",
            "patient id is P_00384\n",
            "patient id is P_00335\n",
            "patient id is P_00106\n",
            "patient id is P_00370\n",
            "patient id is P_00068\n",
            "patient id is P_00247\n",
            "patient id is P_00021\n",
            "patient id is P_00265\n",
            "patient id is P_00160\n",
            "patient id is P_00294\n",
            "patient id is P_00051\n",
            "patient id is P_00041\n",
            "patient id is P_00363\n",
            "patient id is P_00279\n",
            "patient id is P_00057\n",
            "patient id is P_00110\n",
            "patient id is P_00065\n",
            "patient id is P_00206\n",
            "patient id is P_00205\n",
            "patient id is P_00051\n",
            "patient id is P_00120\n",
            "patient id is P_00234\n",
            "patient id is P_00086\n",
            "patient id is P_00348\n",
            "patient id is P_00333\n",
            "patient id is P_00026\n",
            "patient id is P_00332\n",
            "patient id is P_00199\n",
            "patient id is P_00224\n",
            "patient id is P_00361\n",
            "patient id is P_00148\n",
            "patient id is P_00004\n",
            "patient id is P_00386\n",
            "patient id is P_00074\n",
            "patient id is P_00219\n",
            "patient id is P_00004\n",
            "patient id is P_00076\n",
            "patient id is P_00242\n",
            "patient id is P_00148\n",
            "patient id is P_00396\n",
            "patient id is P_00107\n",
            "patient id is P_00079\n",
            "patient id is P_00059\n",
            "patient id is P_00133\n",
            "patient id is P_00366\n",
            "patient id is P_00328\n",
            "patient id is P_00092\n",
            "patient id is P_00354\n",
            "patient id is P_00009\n",
            "patient id is P_00169\n",
            "patient id is P_00128\n",
            "patient id is P_00265\n",
            "patient id is P_00354\n",
            "patient id is P_00319\n",
            "patient id is P_00074\n",
            "patient id is P_00328\n",
            "patient id is P_00235\n",
            "patient id is P_00309\n",
            "patient id is P_00221\n",
            "patient id is P_00106\n",
            "patient id is P_00177\n",
            "patient id is P_00379\n",
            "patient id is P_00200\n",
            "patient id is P_00544\n",
            "patient id is P_00173\n",
            "patient id is P_00369\n",
            "patient id is P_00405\n",
            "patient id is P_00662\n",
            "patient id is P_00490\n",
            "patient id is P_00533\n",
            "patient id is P_00409\n",
            "patient id is P_00615\n",
            "patient id is P_00524\n",
            "patient id is P_00016\n",
            "patient id is P_00766\n",
            "patient id is P_00391\n",
            "patient id is P_00369\n",
            "patient id is P_00066\n",
            "patient id is P_00238\n",
            "patient id is P_00490\n",
            "patient id is P_00510\n",
            "patient id is P_00652\n",
            "patient id is P_00738\n",
            "patient id is P_00758\n",
            "patient id is P_00131\n",
            "patient id is P_00343\n",
            "patient id is P_00017\n",
            "patient id is P_00707\n",
            "patient id is P_00230\n",
            "patient id is P_00524\n",
            "patient id is P_00159\n",
            "patient id is P_00347\n",
            "patient id is P_00409\n",
            "patient id is P_00200\n",
            "patient id is P_00741\n",
            "patient id is P_00296\n",
            "patient id is P_00387\n",
            "patient id is P_00173\n",
            "patient id is P_00116\n",
            "patient id is P_00500\n",
            "patient id is P_00173\n",
            "patient id is P_00387\n",
            "patient id is P_00202\n",
            "patient id is P_00464\n",
            "patient id is P_00147\n",
            "patient id is P_00544\n",
            "patient id is P_00636\n",
            "patient id is P_00641\n",
            "patient id is P_00032\n",
            "patient id is P_00278\n",
            "patient id is P_00510\n",
            "patient id is P_00381\n",
            "patient id is P_00099\n",
            "patient id is P_00457\n",
            "patient id is P_00656\n",
            "patient id is P_00147\n",
            "patient id is P_00457\n",
            "patient id is P_00677\n",
            "patient id is P_00394\n",
            "patient id is P_00516\n",
            "patient id is P_00391\n",
            "patient id is P_00612\n",
            "patient id is P_00598\n",
            "patient id is P_00017\n",
            "patient id is P_00203\n",
            "patient id is P_00481\n",
            "patient id is P_00016\n",
            "patient id is P_00379\n",
            "patient id is P_00032\n",
            "patient id is P_00375\n",
            "patient id is P_00126\n",
            "patient id is P_00576\n",
            "patient id is P_00623\n",
            "patient id is P_00114\n",
            "patient id is P_00587\n",
            "patient id is P_00066\n",
            "patient id is P_00615\n",
            "patient id is P_00347\n",
            "patient id is P_00766\n",
            "patient id is P_00200\n",
            "patient id is P_00636\n",
            "patient id is P_00037\n",
            "patient id is P_00118\n",
            "patient id is P_00699\n",
            "patient id is P_00758\n",
            "patient id is P_00171\n",
            "patient id is P_00131\n",
            "patient id is P_00212\n",
            "patient id is P_00198\n",
            "patient id is P_00158\n",
            "patient id is P_00587\n",
            "patient id is P_00576\n",
            "patient id is P_00662\n",
            "patient id is P_00358\n",
            "patient id is P_00324\n",
            "patient id is P_00482\n",
            "patient id is P_00145\n",
            "patient id is P_00324\n",
            "patient id is P_00601\n",
            "patient id is P_00037\n",
            "patient id is P_00601\n",
            "patient id is P_00498\n",
            "patient id is P_00194\n",
            "patient id is P_00192\n",
            "patient id is P_00623\n",
            "patient id is P_00718\n",
            "patient id is P_00340\n",
            "patient id is P_00741\n",
            "patient id is P_00707\n",
            "patient id is P_00641\n",
            "patient id is P_00429\n",
            "patient id is P_00278\n",
            "patient id is P_00493\n",
            "patient id is P_00494\n",
            "patient id is P_00203\n",
            "patient id is P_00156\n",
            "patient id is P_00209\n",
            "patient id is P_00433\n",
            "patient id is P_00629\n",
            "patient id is P_00116\n",
            "patient id is P_00056\n",
            "patient id is P_00202\n",
            "patient id is P_00470\n",
            "patient id is P_00391\n",
            "patient id is P_00343\n",
            "patient id is P_00230\n",
            "patient id is P_00358\n",
            "patient id is P_00200\n",
            "patient id is P_00533\n",
            "patient id is P_00498\n",
            "patient id is P_00671\n",
            "patient id is P_00173\n",
            "patient id is P_00494\n",
            "patient id is P_00145\n",
            "patient id is P_00343\n",
            "patient id is P_00598\n",
            "patient id is P_00629\n",
            "patient id is P_00124\n",
            "patient id is P_00126\n",
            "patient id is P_00296\n",
            "patient id is P_00391\n",
            "patient id is P_00177\n",
            "patient id is P_00375\n",
            "patient id is P_00773\n",
            "patient id is P_00514\n",
            "patient id is P_00482\n",
            "patient id is P_00238\n",
            "patient id is P_00481\n",
            "patient id is P_00381\n",
            "patient id is P_00405\n",
            "patient id is P_00118\n",
            "patient id is P_00677\n",
            "patient id is P_00470\n",
            "patient id is P_00699\n",
            "patient id is P_00738\n",
            "patient id is P_00359\n",
            "patient id is P_00639\n",
            "patient id is P_00171\n",
            "patient id is P_00198\n",
            "patient id is P_00212\n",
            "patient id is P_00343\n",
            "patient id is P_00591\n",
            "patient id is P_00516\n",
            "patient id is P_00194\n",
            "patient id is P_00464\n",
            "patient id is P_00429\n",
            "patient id is P_00433\n",
            "patient id is P_00671\n"
          ],
          "name": "stdout"
        }
      ]
    },
    {
      "cell_type": "markdown",
      "metadata": {
        "id": "_IhDh3UxcbX1"
      },
      "source": [
        "# **Part 2: Machine Learning**"
      ]
    },
    {
      "cell_type": "markdown",
      "metadata": {
        "id": "pB1K5WvZ1pRf"
      },
      "source": [
        "**Partitioning Data**"
      ]
    },
    {
      "cell_type": "code",
      "metadata": {
        "id": "7Tj9zASDvrFk",
        "outputId": "14779f92-5a88-4ba8-b100-bd314b91f3ed",
        "colab": {
          "base_uri": "https://localhost:8080/"
        }
      },
      "source": [
        "data = np.asarray(train_validation_data)\n",
        "print(data.shape)"
      ],
      "execution_count": 17,
      "outputs": [
        {
          "output_type": "stream",
          "text": [
            "(250, 229, 229)\n"
          ],
          "name": "stdout"
        }
      ]
    },
    {
      "cell_type": "code",
      "metadata": {
        "id": "V1NYjH7Rvye5",
        "outputId": "1f25b0ba-4f0f-49bf-eb9a-db98cc6b3e45",
        "colab": {
          "base_uri": "https://localhost:8080/"
        }
      },
      "source": [
        "labels = np.asarray(train_validation_labels)\n",
        "print(labels.shape)"
      ],
      "execution_count": 18,
      "outputs": [
        {
          "output_type": "stream",
          "text": [
            "(250,)\n"
          ],
          "name": "stdout"
        }
      ]
    },
    {
      "cell_type": "code",
      "metadata": {
        "id": "sTIeWLahx9lf",
        "outputId": "a940d2f6-a178-43b7-d78f-c723a631d8d8",
        "colab": {
          "base_uri": "https://localhost:8080/"
        }
      },
      "source": [
        "test_data = np.asarray(test_data)\n",
        "print(test_data.shape)"
      ],
      "execution_count": 19,
      "outputs": [
        {
          "output_type": "stream",
          "text": [
            "(168, 229, 229)\n"
          ],
          "name": "stdout"
        }
      ]
    },
    {
      "cell_type": "code",
      "metadata": {
        "id": "MKXa3MRDyDHy",
        "outputId": "67638b9c-6890-4b7c-f63a-276de640c5fe",
        "colab": {
          "base_uri": "https://localhost:8080/"
        }
      },
      "source": [
        "test_labels = np.asarray(test_labels)\n",
        "print(test_labels.shape)"
      ],
      "execution_count": 20,
      "outputs": [
        {
          "output_type": "stream",
          "text": [
            "(168,)\n"
          ],
          "name": "stdout"
        }
      ]
    },
    {
      "cell_type": "code",
      "metadata": {
        "id": "Hcz1_CcpZCdm",
        "outputId": "80133a23-685c-40e5-9908-069401670c02",
        "colab": {
          "base_uri": "https://localhost:8080/"
        }
      },
      "source": [
        "train_data = data[:200, :, :]\n",
        "train_labels = labels[:200]\n",
        "num_train_high_density = np.count_nonzero(train_labels)\n",
        "print(\"train data shape: \", train_data.shape)\n",
        "print(\"train labels shape: \", train_labels.shape)\n",
        "print(\"low density: \", len(train_labels) - num_train_high_density)\n",
        "print(\"high density: \", num_train_high_density)\n",
        "print(\"===================\")\n",
        "\n",
        "validation_data = data[200:, :, :]\n",
        "validation_labels = labels[200:]\n",
        "num_validation_high_density = np.count_nonzero(validation_labels)\n",
        "print(\"validation data shape: \", validation_data.shape)\n",
        "print(\"validation labels shape: \", validation_labels.shape)\n",
        "print(\"low density: \", len(validation_labels) - num_validation_high_density)\n",
        "print(\"high density: \", num_validation_high_density)\n",
        "print(\"===================\")\n",
        "\n",
        "num_test_high_density = np.count_nonzero(test_labels)\n",
        "print(\"test data shape: \", test_data.shape)\n",
        "print(\"test labels shape: \", test_labels.shape)\n",
        "print(\"low density: \", len(test_labels) - num_test_high_density)\n",
        "print(\"high density: \", num_test_high_density)"
      ],
      "execution_count": 21,
      "outputs": [
        {
          "output_type": "stream",
          "text": [
            "train data shape:  (200, 229, 229)\n",
            "train labels shape:  (200,)\n",
            "low density:  134\n",
            "high density:  66\n",
            "===================\n",
            "validation data shape:  (50, 229, 229)\n",
            "validation labels shape:  (50,)\n",
            "low density:  31\n",
            "high density:  19\n",
            "===================\n",
            "test data shape:  (168, 229, 229)\n",
            "test labels shape:  (168,)\n",
            "low density:  99\n",
            "high density:  69\n"
          ],
          "name": "stdout"
        }
      ]
    },
    {
      "cell_type": "code",
      "metadata": {
        "id": "U3wFWb_iyhRt",
        "outputId": "458d8ad6-69e7-4424-a92d-cac82efa9b3a",
        "colab": {
          "base_uri": "https://localhost:8080/",
          "height": 269
        }
      },
      "source": [
        "index = np.random.randint(low=0, high=len(train_data))\n",
        "plt.figure()\n",
        "plt.imshow(train_data[index])\n",
        "plt.colorbar()\n",
        "plt.grid(False)\n",
        "plt.show()"
      ],
      "execution_count": 24,
      "outputs": [
        {
          "output_type": "display_data",
          "data": {
            "image/png": "[encoded data removed]",
            "text/plain": [
              "<Figure size 432x288 with 2 Axes>"
            ]
          },
          "metadata": {
            "tags": [],
            "needs_background": "light"
          }
        }
      ]
    },
    {
      "cell_type": "code",
      "metadata": {
        "id": "kxQF0kad1YZc",
        "outputId": "9dbde13f-db4e-4409-d240-ac5946368ceb",
        "colab": {
          "base_uri": "https://localhost:8080/",
          "height": 589
        }
      },
      "source": [
        "# Citation: https://www.tensorflow.org/tutorials/keras/classification\n",
        "plt.figure(figsize=(10,10))\n",
        "for i in range(25):\n",
        "    plt.subplot(5,5,i+1)\n",
        "    plt.xticks([])\n",
        "    plt.yticks([])\n",
        "    plt.grid(False)\n",
        "    plt.imshow(train_data[i], cmap=plt.cm.binary)\n",
        "    if train_labels[i] == 0:\n",
        "      plt.xlabel(\"low density\")\n",
        "    else:\n",
        "      plt.xlabel(\"high density\")\n",
        "plt.show()"
      ],
      "execution_count": 25,
      "outputs": [
        {
          "output_type": "display_data",
          "data": {
            "image/png": "[encoded data removed]",
            "text/plain": [
              "<Figure size 720x720 with 25 Axes>"
            ]
          },
          "metadata": {
            "tags": []
          }
        }
      ]
    },
    {
      "cell_type": "markdown",
      "metadata": {
        "id": "pBM0B7t81snk"
      },
      "source": [
        "**Setting Up Model**"
      ]
    },
    {
      "cell_type": "code",
      "metadata": {
        "id": "zYLkMYA4skXm"
      },
      "source": [
        "train_dataset = tf.data.Dataset.from_tensor_slices((train_data, train_labels))\n",
        "validation_dataset = tf.data.Dataset.from_tensor_slices((validation_data, validation_labels))\n",
        "test_dataset = tf.data.Dataset.from_tensor_slices((test_data, test_labels))"
      ],
      "execution_count": 26,
      "outputs": []
    },
    {
      "cell_type": "code",
      "metadata": {
        "id": "oBB_n07rtb4h"
      },
      "source": [
        "batch_size = 25                                                                    # ideal: 32, 64\n",
        "shuffle_buffer_size = 10\n",
        "train_dataset = train_dataset.shuffle(shuffle_buffer_size).batch(batch_size)\n",
        "validation_dataset = validation_dataset.shuffle(shuffle_buffer_size).batch(batch_size)\n",
        "test_dataset = test_dataset.batch(batch_size)"
      ],
      "execution_count": 27,
      "outputs": []
    },
    {
      "cell_type": "code",
      "metadata": {
        "id": "bOvgO-TB0lkD",
        "outputId": "ce190241-2fc1-4f14-e155-957d00886aa0",
        "colab": {
          "base_uri": "https://localhost:8080/",
          "height": 388
        }
      },
      "source": [
        "# Citation: from tensorflow.org\n",
        "steps_per_epoch = 250/batch_size\n",
        "\n",
        "lr_schedule = tf.keras.optimizers.schedules.InverseTimeDecay(\n",
        "                    0.001, #increase\n",
        "                    decay_steps=steps_per_epoch*1000, # smaller steps\n",
        "                    decay_rate=1,\n",
        "                    staircase=False)\n",
        "\n",
        "def get_optimizer():\n",
        "  return tf.keras.optimizers.Adam(lr_schedule)\n",
        "\n",
        "step = np.linspace(0,100000)\n",
        "lr = lr_schedule(step)\n",
        "plt.figure(figsize = (8,6))\n",
        "plt.plot(step/steps_per_epoch, lr)\n",
        "plt.ylim([0,max(plt.ylim())])\n",
        "plt.xlabel('Epoch')\n",
        "_ = plt.ylabel('Learning Rate')"
      ],
      "execution_count": 28,
      "outputs": [
        {
          "output_type": "display_data",
          "data": {
            "image/png": "[encoded data removed]",
            "text/plain": [
              "<Figure size 576x432 with 1 Axes>"
            ]
          },
          "metadata": {
            "tags": [],
            "needs_background": "light"
          }
        }
      ]
    },
    {
      "cell_type": "code",
      "metadata": {
        "id": "Md5fGf-50pS5"
      },
      "source": [
        "model = tf.keras.Sequential([\n",
        "            tf.keras.layers.Flatten(input_shape=(229,229)),\n",
        "            tf.keras.layers.Dense(128, activation='relu'),\n",
        "            tf.keras.layers.Dense(64, activation='relu'),\n",
        "            tf.keras.layers.Dense(32, activation='relu'),\n",
        "            tf.keras.layers.Dense(2)\n",
        "])"
      ],
      "execution_count": 29,
      "outputs": []
    },
    {
      "cell_type": "markdown",
      "metadata": {
        "id": "dIeCczZX10Pn"
      },
      "source": [
        "**Training and Testing Model**"
      ]
    },
    {
      "cell_type": "code",
      "metadata": {
        "id": "3jMcoWiy1_AJ"
      },
      "source": [
        "model.compile(optimizer=get_optimizer(),\n",
        "              loss=tf.keras.losses.SparseCategoricalCrossentropy(from_logits=True),\n",
        "              metrics=['sparse_categorical_accuracy'])"
      ],
      "execution_count": 30,
      "outputs": []
    },
    {
      "cell_type": "code",
      "metadata": {
        "id": "kmbddEHz2Ao2",
        "outputId": "e2fb8130-5e5e-4790-fdd7-70cd35de5b73",
        "colab": {
          "base_uri": "https://localhost:8080/"
        }
      },
      "source": [
        "model.fit(x=train_data, y=train_labels, epochs=30, validation_data=validation_dataset, validation_steps=30)"
      ],
      "execution_count": 31,
      "outputs": [
        {
          "output_type": "stream",
          "text": [
            "Epoch 1/30\n",
            "7/7 [==============================] - ETA: 0s - loss: 2.2831 - sparse_categorical_accuracy: 0.5450WARNING:tensorflow:Your input ran out of data; interrupting training. Make sure that your dataset or generator can generate at least `steps_per_epoch * epochs` batches (in this case, 30 batches). You may need to use the repeat() function when building your dataset.\n",
            "7/7 [==============================] - 0s 67ms/step - loss: 2.2831 - sparse_categorical_accuracy: 0.5450 - val_loss: 1.1537 - val_sparse_categorical_accuracy: 0.5400\n",
            "Epoch 2/30\n",
            "7/7 [==============================] - 0s 35ms/step - loss: 0.9674 - sparse_categorical_accuracy: 0.5700\n",
            "Epoch 3/30\n",
            "7/7 [==============================] - 0s 37ms/step - loss: 0.9826 - sparse_categorical_accuracy: 0.5850\n",
            "Epoch 4/30\n",
            "7/7 [==============================] - 0s 34ms/step - loss: 0.7138 - sparse_categorical_accuracy: 0.7200\n",
            "Epoch 5/30\n",
            "7/7 [==============================] - 0s 34ms/step - loss: 0.8393 - sparse_categorical_accuracy: 0.6450\n",
            "Epoch 6/30\n",
            "7/7 [==============================] - 0s 37ms/step - loss: 0.5207 - sparse_categorical_accuracy: 0.7250\n",
            "Epoch 7/30\n",
            "7/7 [==============================] - 0s 34ms/step - loss: 0.5506 - sparse_categorical_accuracy: 0.7400\n",
            "Epoch 8/30\n",
            "7/7 [==============================] - 0s 35ms/step - loss: 0.6089 - sparse_categorical_accuracy: 0.6850\n",
            "Epoch 9/30\n",
            "7/7 [==============================] - 0s 35ms/step - loss: 0.7175 - sparse_categorical_accuracy: 0.6200\n",
            "Epoch 10/30\n",
            "7/7 [==============================] - 0s 37ms/step - loss: 0.4617 - sparse_categorical_accuracy: 0.7900\n",
            "Epoch 11/30\n",
            "7/7 [==============================] - 0s 35ms/step - loss: 0.4253 - sparse_categorical_accuracy: 0.7900\n",
            "Epoch 12/30\n",
            "7/7 [==============================] - 0s 39ms/step - loss: 0.4880 - sparse_categorical_accuracy: 0.7950\n",
            "Epoch 13/30\n",
            "7/7 [==============================] - 0s 35ms/step - loss: 0.4261 - sparse_categorical_accuracy: 0.7800\n",
            "Epoch 14/30\n",
            "7/7 [==============================] - 0s 35ms/step - loss: 0.3902 - sparse_categorical_accuracy: 0.8100\n",
            "Epoch 15/30\n",
            "7/7 [==============================] - 0s 36ms/step - loss: 0.4412 - sparse_categorical_accuracy: 0.8050\n",
            "Epoch 16/30\n",
            "7/7 [==============================] - 0s 35ms/step - loss: 0.4369 - sparse_categorical_accuracy: 0.8300\n",
            "Epoch 17/30\n",
            "7/7 [==============================] - 0s 35ms/step - loss: 0.4696 - sparse_categorical_accuracy: 0.8000\n",
            "Epoch 18/30\n",
            "7/7 [==============================] - 0s 34ms/step - loss: 0.3462 - sparse_categorical_accuracy: 0.8400\n",
            "Epoch 19/30\n",
            "7/7 [==============================] - 0s 37ms/step - loss: 0.3903 - sparse_categorical_accuracy: 0.8300\n",
            "Epoch 20/30\n",
            "7/7 [==============================] - 0s 35ms/step - loss: 0.3938 - sparse_categorical_accuracy: 0.7850\n",
            "Epoch 21/30\n",
            "7/7 [==============================] - 0s 34ms/step - loss: 0.4114 - sparse_categorical_accuracy: 0.8350\n",
            "Epoch 22/30\n",
            "7/7 [==============================] - 0s 35ms/step - loss: 0.2599 - sparse_categorical_accuracy: 0.8850\n",
            "Epoch 23/30\n",
            "7/7 [==============================] - 0s 35ms/step - loss: 0.2361 - sparse_categorical_accuracy: 0.9100\n",
            "Epoch 24/30\n",
            "7/7 [==============================] - 0s 35ms/step - loss: 0.1939 - sparse_categorical_accuracy: 0.9400\n",
            "Epoch 25/30\n",
            "7/7 [==============================] - 0s 35ms/step - loss: 0.1904 - sparse_categorical_accuracy: 0.9100\n",
            "Epoch 26/30\n",
            "7/7 [==============================] - 0s 35ms/step - loss: 0.1514 - sparse_categorical_accuracy: 0.9650\n",
            "Epoch 27/30\n",
            "7/7 [==============================] - 0s 35ms/step - loss: 0.1463 - sparse_categorical_accuracy: 0.9600\n",
            "Epoch 28/30\n",
            "7/7 [==============================] - 0s 35ms/step - loss: 0.1344 - sparse_categorical_accuracy: 0.9750\n",
            "Epoch 29/30\n",
            "7/7 [==============================] - 0s 35ms/step - loss: 0.1224 - sparse_categorical_accuracy: 0.9700\n",
            "Epoch 30/30\n",
            "7/7 [==============================] - 0s 35ms/step - loss: 0.1157 - sparse_categorical_accuracy: 0.9550\n"
          ],
          "name": "stdout"
        },
        {
          "output_type": "execute_result",
          "data": {
            "text/plain": [
              "<tensorflow.python.keras.callbacks.History at 0x7f99abeed5c0>"
            ]
          },
          "metadata": {
            "tags": []
          },
          "execution_count": 31
        }
      ]
    },
    {
      "cell_type": "code",
      "metadata": {
        "id": "BBV0ENIMt3ZH",
        "outputId": "0a040bf8-9cd6-438f-dfff-609b8fc8749d",
        "colab": {
          "base_uri": "https://localhost:8080/"
        }
      },
      "source": [
        "model.evaluate(x=test_data, y=test_labels, batch_size=4)\n",
        "results = model.predict(test_dataset, steps=30)\n",
        "\n",
        "print(results.shape)\n",
        "print(results)"
      ],
      "execution_count": 32,
      "outputs": [
        {
          "output_type": "stream",
          "text": [
            "42/42 [==============================] - 0s 4ms/step - loss: 0.8195 - sparse_categorical_accuracy: 0.7202\n",
            "WARNING:tensorflow:Your input ran out of data; interrupting training. Make sure that your dataset or generator can generate at least `steps_per_epoch * epochs` batches (in this case, 30 batches). You may need to use the repeat() function when building your dataset.\n",
            "(168, 2)\n",
            "[[-1.39884830e+00  6.20476007e-01]\n",
            " [ 8.17957878e+00  2.36689305e+00]\n",
            " [ 3.90981054e+00  9.46131423e-02]\n",
            " [ 6.11980438e+00  7.10224271e-01]\n",
            " [ 9.27729130e+00  7.41035604e+00]\n",
            " [ 7.12805653e+00  1.06583385e+01]\n",
            " [ 1.41067524e+01  1.67386303e+01]\n",
            " [ 6.15844309e-01  1.76105142e-01]\n",
            " [ 1.39325504e+01  1.59244843e+01]\n",
            " [-6.78622127e-01 -3.43418032e-01]\n",
            " [ 4.63840532e+00  5.81983280e+00]\n",
            " [ 6.98991871e+00  1.04532146e+00]\n",
            " [ 1.73240204e+01  8.97303581e+00]\n",
            " [ 8.09776497e+00  9.38262844e+00]\n",
            " [ 4.25259161e+00  8.31375182e-01]\n",
            " [ 7.71229649e+00  1.03975716e+01]\n",
            " [ 1.09859018e+01  1.13422108e+01]\n",
            " [ 4.87986660e+00  9.48833752e+00]\n",
            " [ 6.75466585e+00  7.03253984e+00]\n",
            " [ 1.02355375e+01  1.08308716e+01]\n",
            " [-9.96880710e-01 -6.23623908e-01]\n",
            " [ 1.09262681e+00  1.15611754e-01]\n",
            " [ 1.17357798e+01  1.00693569e+01]\n",
            " [ 6.05577087e+00  6.50013924e+00]\n",
            " [ 1.35483208e+01  5.83413029e+00]\n",
            " [ 9.82035923e+00  7.67430639e+00]\n",
            " [ 4.71000624e+00  1.67896104e+00]\n",
            " [ 1.37907639e+01  1.22516241e+01]\n",
            " [ 1.45976925e+00 -2.67871648e-01]\n",
            " [ 1.92979164e+01  9.42023373e+00]\n",
            " [ 7.67487812e+00  6.68442726e+00]\n",
            " [ 1.19729977e+01  5.51635790e+00]\n",
            " [ 6.87454557e+00  6.52265644e+00]\n",
            " [-3.26199865e+00  1.22116327e+00]\n",
            " [ 8.38302994e+00  2.22752857e+00]\n",
            " [ 2.94554734e+00  7.61412561e-01]\n",
            " [ 7.92791033e+00  8.30458546e+00]\n",
            " [ 1.49047065e+00  8.61081108e-02]\n",
            " [ 1.34200935e+01  1.11731129e+01]\n",
            " [ 2.42146015e+00  4.18962926e-01]\n",
            " [ 4.77309465e+00  4.68300486e+00]\n",
            " [ 9.05016136e+00  8.87102222e+00]\n",
            " [ 1.99506245e+01  1.76130867e+01]\n",
            " [ 4.28570175e+00  5.18286586e-01]\n",
            " [ 1.57890594e+00 -2.83297319e-02]\n",
            " [ 4.72783709e+00  4.05912906e-01]\n",
            " [ 1.14133501e+01  9.68605804e+00]\n",
            " [ 1.25357723e+01  1.01539068e+01]\n",
            " [ 6.67886209e+00  9.14907742e+00]\n",
            " [ 1.02994375e+01  2.17598510e+00]\n",
            " [ 2.18052197e+00  3.93863827e-01]\n",
            " [ 3.00893378e+00  2.64930099e-01]\n",
            " [ 1.86202488e+01  1.58713312e+01]\n",
            " [ 2.02064657e+00 -6.18863478e-02]\n",
            " [ 2.11222625e+00  1.70162633e-01]\n",
            " [ 1.27274485e+01  5.73825550e+00]\n",
            " [ 7.01654851e-01 -3.29882592e-01]\n",
            " [ 1.42774858e+01  1.49217749e+01]\n",
            " [ 9.56433487e+00  1.03730755e+01]\n",
            " [ 2.10273564e-01 -1.60069674e-01]\n",
            " [ 1.41039371e-01  3.04154381e-02]\n",
            " [ 7.42569733e+00  9.60747623e+00]\n",
            " [ 3.76042676e+00  8.88819337e-01]\n",
            " [-1.83433676e+00 -8.08047950e-01]\n",
            " [ 6.06841278e+00  1.46304169e+01]\n",
            " [ 1.20651312e+01  9.33096981e+00]\n",
            " [ 8.56180000e+00  1.19691324e+01]\n",
            " [ 2.24927831e+00  3.82442653e-01]\n",
            " [ 8.19061661e+00  1.17950392e+01]\n",
            " [ 1.33902464e+01  1.05266018e+01]\n",
            " [ 4.97292852e+00  9.16122437e-01]\n",
            " [ 2.89807491e+01  2.07587662e+01]\n",
            " [-1.32617807e+00 -2.85452515e-01]\n",
            " [-3.99913162e-01 -3.57330412e-01]\n",
            " [ 1.19798594e+01  3.26377344e+00]\n",
            " [ 7.34321165e+00  7.28311348e+00]\n",
            " [ 1.00050855e+00  9.12812293e-01]\n",
            " [ 3.75721955e+00  2.61067063e-01]\n",
            " [ 4.90211296e+00  8.70742381e-01]\n",
            " [ 3.59793448e+00  8.10645390e+00]\n",
            " [ 1.47888079e+01  1.50053091e+01]\n",
            " [ 9.25078869e+00  1.03937883e+01]\n",
            " [-7.51087952e+00 -9.80925739e-01]\n",
            " [ 2.61514015e+01  1.93219719e+01]\n",
            " [ 9.12466526e+00  9.82303715e+00]\n",
            " [ 7.94782639e-01 -4.31708962e-01]\n",
            " [ 9.40560579e-01  1.26574409e+00]\n",
            " [ 3.94854450e+00  7.63995647e+00]\n",
            " [ 6.70423698e+00  3.88279057e+00]\n",
            " [ 1.07946949e+01  1.01156683e+01]\n",
            " [-3.50379467e+00 -1.40799630e+00]\n",
            " [ 2.42466125e+01  1.79326897e+01]\n",
            " [ 3.85423684e+00  5.14931858e-01]\n",
            " [ 3.60439587e+00  5.81263721e-01]\n",
            " [ 8.75719357e+00  6.49898434e+00]\n",
            " [ 7.83772135e+00  8.65847015e+00]\n",
            " [ 3.64749050e+00  6.29429638e-01]\n",
            " [ 3.30021882e+00  4.65770531e+00]\n",
            " [-3.38815355e+00 -3.88187915e-01]\n",
            " [ 1.84683490e+00  4.36649656e+00]\n",
            " [ 1.76361012e+00  1.27693558e+00]\n",
            " [ 8.79854584e+00  9.77215290e+00]\n",
            " [ 6.50556564e+00  9.20586205e+00]\n",
            " [ 4.42351007e+00  7.04852390e+00]\n",
            " [ 5.53762388e+00  1.06084347e+00]\n",
            " [ 1.21351156e+01  1.25781431e+01]\n",
            " [ 7.67639494e+00  8.46162987e+00]\n",
            " [ 2.68290997e-01 -2.64245030e-02]\n",
            " [ 2.06792698e+01  1.57598104e+01]\n",
            " [ 1.99555073e+01  1.57250109e+01]\n",
            " [ 5.32149613e-01 -7.66554549e-02]\n",
            " [ 1.83388925e+00  1.12887077e-01]\n",
            " [ 4.00815964e+00 -4.24730211e-01]\n",
            " [ 2.60782337e+00 -2.22668052e-01]\n",
            " [ 1.11994123e+01  1.48213625e+01]\n",
            " [ 4.90748644e+00  7.48641300e+00]\n",
            " [ 1.87640877e+01  1.28178968e+01]\n",
            " [-2.62182176e-01 -8.18155348e-01]\n",
            " [ 5.36166906e+00  7.23138475e+00]\n",
            " [ 1.25133953e+01  1.11047201e+01]\n",
            " [-4.20496798e+00 -7.52255768e-02]\n",
            " [ 1.84328041e+01  1.40087881e+01]\n",
            " [ 1.09298134e+01  1.14488268e+01]\n",
            " [ 3.74846482e+00 -6.76236209e-03]\n",
            " [-5.83540976e-01 -3.39483589e-01]\n",
            " [-2.30691123e+00 -1.34502625e+00]\n",
            " [ 6.74048710e+00  1.35878336e+00]\n",
            " [ 6.56560993e+00  9.41189194e+00]\n",
            " [ 4.46832329e-01 -1.94580555e-01]\n",
            " [ 8.04041004e+00  1.05231104e+01]\n",
            " [ 4.68952227e+00  9.61577475e-01]\n",
            " [ 3.98030609e-01 -1.49056792e-01]\n",
            " [ 1.60365224e+00  4.18739229e-01]\n",
            " [-5.23801982e-01 -5.84892869e-01]\n",
            " [ 1.01915436e+01  6.60455704e+00]\n",
            " [ 1.13890553e+00 -1.51867634e-02]\n",
            " [ 7.46794844e+00  8.35242748e+00]\n",
            " [ 2.15706730e+00 -3.57287899e-02]\n",
            " [ 1.01588058e+00  1.03813671e-01]\n",
            " [ 1.86990273e+00 -3.99803847e-01]\n",
            " [ 4.35408211e+00  8.71186161e+00]\n",
            " [ 1.02568321e+01  2.97010660e+00]\n",
            " [ 1.30427113e+01  1.39053621e+01]\n",
            " [ 1.07685890e+01  1.13197947e+01]\n",
            " [ 1.09853363e+01  1.33686485e+01]\n",
            " [ 8.53159904e+00  9.32466221e+00]\n",
            " [ 7.18814659e+00  6.02823782e+00]\n",
            " [ 1.31838264e+01  1.30458126e+01]\n",
            " [ 1.06448832e+01  3.31603169e+00]\n",
            " [ 1.17206917e+01  1.34172010e+01]\n",
            " [ 3.40936899e+00  3.54603142e-01]\n",
            " [ 1.08277912e+01  8.76121044e+00]\n",
            " [ 2.25580921e+01  1.43588686e+01]\n",
            " [ 1.29011669e+01  1.50698538e+01]\n",
            " [ 1.20022154e+01  1.19772072e+01]\n",
            " [ 8.06431103e+00  8.93285751e+00]\n",
            " [ 1.02533615e+00  2.01717824e-01]\n",
            " [ 5.49908257e+00  9.37612593e-01]\n",
            " [ 9.20745468e+00  4.46849489e+00]\n",
            " [ 5.64698553e+00  8.36048031e+00]\n",
            " [-3.16246319e+00 -5.40217280e-01]\n",
            " [ 1.12047138e+01  7.55288029e+00]\n",
            " [ 1.06810617e+00  1.95726216e-01]\n",
            " [ 8.14788055e+00  8.07280731e+00]\n",
            " [-8.70087504e-01 -6.26283944e-01]\n",
            " [ 3.13626862e+00  3.99755761e-02]\n",
            " [ 4.24854469e+00  7.49389112e-01]\n",
            " [ 5.42317486e+00  6.80516422e-01]]\n"
          ],
          "name": "stdout"
        }
      ]
    },
    {
      "cell_type": "markdown",
      "metadata": {
        "id": "QV1NfYzW6wN0"
      },
      "source": [
        "**Process Test Results**"
      ]
    },
    {
      "cell_type": "code",
      "metadata": {
        "id": "432sSFWv2d4G",
        "outputId": "54d6a240-8f45-451c-c272-9084483b413d",
        "colab": {
          "base_uri": "https://localhost:8080/"
        }
      },
      "source": [
        "tf.nn.softmax(results)"
      ],
      "execution_count": 33,
      "outputs": [
        {
          "output_type": "execute_result",
          "data": {
            "text/plain": [
              "<tf.Tensor: shape=(168, 2), dtype=float32, numpy=\n",
              "array([[1.1718888e-01, 8.8281113e-01],\n",
              "       [9.9701947e-01, 2.9804800e-03],\n",
              "       [9.7844166e-01, 2.1558361e-02],\n",
              "       [9.9554634e-01, 4.4535943e-03],\n",
              "       [8.6610329e-01, 1.3389674e-01],\n",
              "       [2.8462790e-02, 9.7153723e-01],\n",
              "       [6.7114770e-02, 9.3288517e-01],\n",
              "       [6.0819691e-01, 3.9180315e-01],\n",
              "       [1.2005243e-01, 8.7994760e-01],\n",
              "       [4.1697493e-01, 5.8302510e-01],\n",
              "       [2.3479563e-01, 7.6520437e-01],\n",
              "       [9.9738687e-01, 2.6131109e-03],\n",
              "       [9.9976391e-01, 2.3610813e-04],\n",
              "       [2.1672350e-01, 7.8327650e-01],\n",
              "       [9.6836108e-01, 3.1638939e-02],\n",
              "       [6.3847855e-02, 9.3615222e-01],\n",
              "       [4.1185334e-01, 5.8814663e-01],\n",
              "       [9.8686852e-03, 9.9013126e-01],\n",
              "       [4.3097508e-01, 5.6902492e-01],\n",
              "       [3.5541192e-01, 6.4458805e-01],\n",
              "       [4.0775430e-01, 5.9224570e-01],\n",
              "       [7.2651553e-01, 2.7348444e-01],\n",
              "       [8.4109831e-01, 1.5890169e-01],\n",
              "       [3.9070055e-01, 6.0929942e-01],\n",
              "       [9.9955374e-01, 4.4624749e-04],\n",
              "       [8.9529938e-01, 1.0470065e-01],\n",
              "       [9.5395708e-01, 4.6042897e-02],\n",
              "       [8.2333964e-01, 1.7666037e-01],\n",
              "       [8.4911042e-01, 1.5088959e-01],\n",
              "       [9.9994874e-01, 5.1304407e-05],\n",
              "       [7.2917700e-01, 2.7082303e-01],\n",
              "       [9.9843234e-01, 1.5676013e-03],\n",
              "       [5.8707559e-01, 4.1292438e-01],\n",
              "       [1.1171424e-02, 9.8882860e-01],\n",
              "       [9.9788266e-01, 2.1172846e-03],\n",
              "       [8.9881575e-01, 1.0118427e-01],\n",
              "       [4.0692908e-01, 5.9307098e-01],\n",
              "       [8.0287528e-01, 1.9712476e-01],\n",
              "       [9.0438980e-01, 9.5610231e-02],\n",
              "       [8.8105905e-01, 1.1894098e-01],\n",
              "       [5.2250725e-01, 4.7749278e-01],\n",
              "       [5.4466540e-01, 4.5533460e-01],\n",
              "       [9.1193855e-01, 8.8061452e-02],\n",
              "       [9.7741038e-01, 2.2589644e-02],\n",
              "       [8.3302730e-01, 1.6697277e-01],\n",
              "       [9.8689961e-01, 1.3100418e-02],\n",
              "       [8.4906572e-01, 1.5093428e-01],\n",
              "       [9.1543394e-01, 8.4566034e-02],\n",
              "       [7.7972762e-02, 9.2202729e-01],\n",
              "       [9.9970359e-01, 2.9641541e-04],\n",
              "       [8.5651702e-01, 1.4348292e-01],\n",
              "       [9.3957382e-01, 6.0426190e-02],\n",
              "       [9.3985212e-01, 6.0147807e-02],\n",
              "       [8.8919377e-01, 1.1080615e-01],\n",
              "       [8.7457865e-01, 1.2542133e-01],\n",
              "       [9.9907899e-01, 9.2094118e-04],\n",
              "       [7.3721385e-01, 2.6278615e-01],\n",
              "       [3.4427765e-01, 6.5572238e-01],\n",
              "       [3.0815893e-01, 6.9184113e-01],\n",
              "       [5.9154195e-01, 4.0845811e-01],\n",
              "       [5.2762783e-01, 4.7237217e-01],\n",
              "       [1.0139872e-01, 8.9860123e-01],\n",
              "       [9.4642490e-01, 5.3575095e-02],\n",
              "       [2.6380426e-01, 7.3619580e-01],\n",
              "       [1.9119910e-04, 9.9980885e-01],\n",
              "       [9.3901259e-01, 6.0987417e-02],\n",
              "       [3.2067094e-02, 9.6793294e-01],\n",
              "       [8.6609167e-01, 1.3390829e-01],\n",
              "       [2.6482733e-02, 9.7351724e-01],\n",
              "       [9.4601965e-01, 5.3980280e-02],\n",
              "       [9.8299015e-01, 1.7009856e-02],\n",
              "       [9.9973136e-01, 2.6860958e-04],\n",
              "       [2.6101002e-01, 7.3899001e-01],\n",
              "       [4.8935592e-01, 5.1064408e-01],\n",
              "       [9.9983609e-01, 1.6390078e-04],\n",
              "       [5.1502001e-01, 4.8497996e-01],\n",
              "       [5.2191001e-01, 4.7808999e-01],\n",
              "       [9.7057801e-01, 2.9421903e-02],\n",
              "       [9.8255956e-01, 1.7440416e-02],\n",
              "       [1.0894757e-02, 9.8910528e-01],\n",
              "       [4.4608513e-01, 5.5391490e-01],\n",
              "       [2.4177006e-01, 7.5822997e-01],\n",
              "       [1.4569472e-03, 9.9854302e-01],\n",
              "       [9.9891973e-01, 1.0803065e-03],\n",
              "       [3.3217332e-01, 6.6782671e-01],\n",
              "       [7.7320391e-01, 2.2679608e-01],\n",
              "       [4.1941303e-01, 5.8058703e-01],\n",
              "       [2.4330053e-02, 9.7566992e-01],\n",
              "       [9.4382381e-01, 5.6176197e-02],\n",
              "       [6.6352141e-01, 3.3647859e-01],\n",
              "       [1.0950586e-01, 8.9049417e-01],\n",
              "       [9.9819237e-01, 1.8076418e-03],\n",
              "       [9.6575290e-01, 3.4247141e-02],\n",
              "       [9.5360827e-01, 4.6391714e-02],\n",
              "       [9.0535635e-01, 9.4643705e-02],\n",
              "       [3.0560473e-01, 6.9439524e-01],\n",
              "       [9.5338339e-01, 4.6616577e-02],\n",
              "       [2.0464912e-01, 7.9535091e-01],\n",
              "       [4.7427420e-02, 9.5257252e-01],\n",
              "       [7.4491270e-02, 9.2550880e-01],\n",
              "       [6.1932272e-01, 3.8067728e-01],\n",
              "       [2.7416211e-01, 7.2583789e-01],\n",
              "       [6.2955864e-02, 9.3704408e-01],\n",
              "       [6.7545824e-02, 9.3245423e-01],\n",
              "       [9.8875791e-01, 1.1242138e-02],\n",
              "       [3.9101982e-01, 6.0898018e-01],\n",
              "       [3.1319273e-01, 6.8680727e-01],\n",
              "       [5.7315016e-01, 4.2684984e-01],\n",
              "       [9.9274981e-01, 7.2501297e-03],\n",
              "       [9.8566335e-01, 1.4336640e-02],\n",
              "       [6.4766818e-01, 3.5233182e-01],\n",
              "       [8.4825790e-01, 1.5174212e-01],\n",
              "       [9.8825932e-01, 1.1740627e-02],\n",
              "       [9.4430149e-01, 5.5698540e-02],\n",
              "       [2.6034579e-02, 9.7396541e-01],\n",
              "       [7.0507050e-02, 9.2949295e-01],\n",
              "       [9.9739099e-01, 2.6089610e-03],\n",
              "       [6.3552028e-01, 3.6447969e-01],\n",
              "       [1.3357462e-01, 8.6642534e-01],\n",
              "       [8.0355692e-01, 1.9644311e-01],\n",
              "       [1.5832324e-02, 9.8416764e-01],\n",
              "       [9.8815596e-01, 1.1844037e-02],\n",
              "       [3.7308297e-01, 6.2691706e-01],\n",
              "       [9.7713965e-01, 2.2860317e-02],\n",
              "       [4.3928671e-01, 5.6071329e-01],\n",
              "       [2.7650091e-01, 7.2349900e-01],\n",
              "       [9.9542111e-01, 4.5789150e-03],\n",
              "       [5.4873824e-02, 9.4512618e-01],\n",
              "       [6.5507281e-01, 3.4492725e-01],\n",
              "       [7.7079885e-02, 9.2292011e-01],\n",
              "       [9.7652221e-01, 2.3477739e-02],\n",
              "       [6.3345963e-01, 3.6654043e-01],\n",
              "       [7.6583004e-01, 2.3416997e-01],\n",
              "       [5.1526797e-01, 4.8473200e-01],\n",
              "       [9.7306406e-01, 2.6935993e-02],\n",
              "       [7.6025760e-01, 2.3974240e-01],\n",
              "       [2.9225045e-01, 7.0774949e-01],\n",
              "       [8.9960074e-01, 1.0039928e-01],\n",
              "       [7.1342295e-01, 2.8657708e-01],\n",
              "       [9.0633684e-01, 9.3663126e-02],\n",
              "       [1.2644854e-02, 9.8735517e-01],\n",
              "       [9.9931586e-01, 6.8409764e-04],\n",
              "       [2.9678580e-01, 7.0321417e-01],\n",
              "       [3.6558476e-01, 6.3441527e-01],\n",
              "       [8.4454112e-02, 9.1554594e-01],\n",
              "       [3.1151131e-01, 6.8848866e-01],\n",
              "       [7.6131618e-01, 2.3868386e-01],\n",
              "       [5.3444880e-01, 4.6555123e-01],\n",
              "       [9.9934405e-01, 6.5589632e-04],\n",
              "       [1.5492171e-01, 8.4507829e-01],\n",
              "       [9.5498776e-01, 4.5012157e-02],\n",
              "       [8.8761228e-01, 1.1238768e-01],\n",
              "       [9.9972516e-01, 2.7479138e-04],\n",
              "       [1.0259787e-01, 8.9740211e-01],\n",
              "       [5.0625169e-01, 4.9374825e-01],\n",
              "       [2.9555684e-01, 7.0444316e-01],\n",
              "       [6.9500387e-01, 3.0499613e-01],\n",
              "       [9.8966134e-01, 1.0338686e-02],\n",
              "       [9.9132818e-01, 8.6718816e-03],\n",
              "       [6.2181741e-02, 9.3781823e-01],\n",
              "       [6.7720369e-02, 9.3227959e-01],\n",
              "       [9.7471255e-01, 2.5287472e-02],\n",
              "       [7.0524067e-01, 2.9475930e-01],\n",
              "       [5.1875949e-01, 4.8124048e-01],\n",
              "       [4.3934926e-01, 5.6065077e-01],\n",
              "       [9.5673954e-01, 4.3260425e-02],\n",
              "       [9.7066373e-01, 2.9336270e-02],\n",
              "       [9.9135989e-01, 8.6401422e-03]], dtype=float32)>"
            ]
          },
          "metadata": {
            "tags": []
          },
          "execution_count": 33
        }
      ]
    },
    {
      "cell_type": "code",
      "metadata": {
        "id": "C0MbPOkt62OQ",
        "outputId": "2b74b606-3a1e-481e-859c-d4e26bb70bec",
        "colab": {
          "base_uri": "https://localhost:8080/"
        }
      },
      "source": [
        "predicted_densities = tf.math.argmax(input=results, axis=1)\n",
        "predicted_densities"
      ],
      "execution_count": 34,
      "outputs": [
        {
          "output_type": "execute_result",
          "data": {
            "text/plain": [
              "<tf.Tensor: shape=(168,), dtype=int64, numpy=\n",
              "array([1, 0, 0, 0, 0, 1, 1, 0, 1, 1, 1, 0, 0, 1, 0, 1, 1, 1, 1, 1, 1, 0,\n",
              "       0, 1, 0, 0, 0, 0, 0, 0, 0, 0, 0, 1, 0, 0, 1, 0, 0, 0, 0, 0, 0, 0,\n",
              "       0, 0, 0, 0, 1, 0, 0, 0, 0, 0, 0, 0, 0, 1, 1, 0, 0, 1, 0, 1, 1, 0,\n",
              "       1, 0, 1, 0, 0, 0, 1, 1, 0, 0, 0, 0, 0, 1, 1, 1, 1, 0, 1, 0, 1, 1,\n",
              "       0, 0, 1, 0, 0, 0, 0, 1, 0, 1, 1, 1, 0, 1, 1, 1, 0, 1, 1, 0, 0, 0,\n",
              "       0, 0, 0, 0, 1, 1, 0, 0, 1, 0, 1, 0, 1, 0, 1, 1, 0, 1, 0, 1, 0, 0,\n",
              "       0, 0, 0, 0, 1, 0, 0, 0, 1, 0, 1, 1, 1, 1, 0, 0, 0, 1, 0, 0, 0, 1,\n",
              "       0, 1, 0, 0, 0, 1, 1, 0, 0, 0, 1, 0, 0, 0])>"
            ]
          },
          "metadata": {
            "tags": []
          },
          "execution_count": 34
        }
      ]
    },
    {
      "cell_type": "code",
      "metadata": {
        "id": "pvkQM_mS7G-Q",
        "outputId": "23c27a5f-4567-4f3b-8c42-0b33f6c85155",
        "colab": {
          "base_uri": "https://localhost:8080/"
        }
      },
      "source": [
        "np_predicted = tf.make_tensor_proto(predicted_densities)  # convert `tensor a` to a proto tensor\n",
        "np_predicted = tf.make_ndarray(np_predicted)\n",
        "np_predicted"
      ],
      "execution_count": 35,
      "outputs": [
        {
          "output_type": "execute_result",
          "data": {
            "text/plain": [
              "array([1, 0, 0, 0, 0, 1, 1, 0, 1, 1, 1, 0, 0, 1, 0, 1, 1, 1, 1, 1, 1, 0,\n",
              "       0, 1, 0, 0, 0, 0, 0, 0, 0, 0, 0, 1, 0, 0, 1, 0, 0, 0, 0, 0, 0, 0,\n",
              "       0, 0, 0, 0, 1, 0, 0, 0, 0, 0, 0, 0, 0, 1, 1, 0, 0, 1, 0, 1, 1, 0,\n",
              "       1, 0, 1, 0, 0, 0, 1, 1, 0, 0, 0, 0, 0, 1, 1, 1, 1, 0, 1, 0, 1, 1,\n",
              "       0, 0, 1, 0, 0, 0, 0, 1, 0, 1, 1, 1, 0, 1, 1, 1, 0, 1, 1, 0, 0, 0,\n",
              "       0, 0, 0, 0, 1, 1, 0, 0, 1, 0, 1, 0, 1, 0, 1, 1, 0, 1, 0, 1, 0, 0,\n",
              "       0, 0, 0, 0, 1, 0, 0, 0, 1, 0, 1, 1, 1, 1, 0, 0, 0, 1, 0, 0, 0, 1,\n",
              "       0, 1, 0, 0, 0, 1, 1, 0, 0, 0, 1, 0, 0, 0])"
            ]
          },
          "metadata": {
            "tags": []
          },
          "execution_count": 35
        }
      ]
    },
    {
      "cell_type": "markdown",
      "metadata": {
        "id": "E7emfh0t2WXl"
      },
      "source": [
        "# **Part 3: Confusion Matrix and ROC Curve**"
      ]
    },
    {
      "cell_type": "markdown",
      "metadata": {
        "id": "VPxwLK_a22zZ"
      },
      "source": [
        "**Confusion Matrix**\n",
        "\n",
        "https://en.wikipedia.org/wiki/Confusion_matrix\n",
        "  \n",
        "\n",
        "```\n",
        "                  actual 0        actual 1    \n",
        "predicted 0   true_zero (TP)   false_zero (FP)\n",
        "predicted 1   false_one (FN)   true_one (TN)  \n",
        "```"
      ]
    },
    {
      "cell_type": "code",
      "metadata": {
        "id": "RjLiR5sZAICS"
      },
      "source": [
        "actual = test_labels\n",
        "predicted = np_predicted\n",
        "true_zero = 0\n",
        "true_one = 0\n",
        "false_one = 0\n",
        "false_zero = 0\n",
        "for i in range(len(predicted)):\n",
        "  if actual[i] == predicted[i]:\n",
        "    if actual[i] == 0:\n",
        "      true_zero += 1\n",
        "    else:\n",
        "      true_one += 1\n",
        "  else:\n",
        "    if actual[i] == 0 and predicted[i] == 1:\n",
        "      false_one += 1\n",
        "    else:\n",
        "      false_zero += 1"
      ],
      "execution_count": 36,
      "outputs": []
    },
    {
      "cell_type": "code",
      "metadata": {
        "id": "T0ZnGxUXUE5A",
        "outputId": "c74bcd0d-e871-4156-95e7-21f7021966f0",
        "colab": {
          "base_uri": "https://localhost:8080/",
          "height": 111
        }
      },
      "source": [
        "data_dict = { \"actual 0\" : [true_zero, false_one], \"actual 1\" : [false_zero, true_one]}\n",
        "confusion_matrix = pd.DataFrame(data_dict, index=[\"predicted 0\", \"predicted 1\"])\n",
        "confusion_matrix"
      ],
      "execution_count": 37,
      "outputs": [
        {
          "output_type": "execute_result",
          "data": {
            "text/html": [
              "<div>\n",
              "<style scoped>\n",
              "    .dataframe tbody tr th:only-of-type {\n",
              "        vertical-align: middle;\n",
              "    }\n",
              "\n",
              "    .dataframe tbody tr th {\n",
              "        vertical-align: top;\n",
              "    }\n",
              "\n",
              "    .dataframe thead th {\n",
              "        text-align: right;\n",
              "    }\n",
              "</style>\n",
              "<table border=\"1\" class=\"dataframe\">\n",
              "  <thead>\n",
              "    <tr style=\"text-align: right;\">\n",
              "      <th></th>\n",
              "      <th>actual 0</th>\n",
              "      <th>actual 1</th>\n",
              "    </tr>\n",
              "  </thead>\n",
              "  <tbody>\n",
              "    <tr>\n",
              "      <th>predicted 0</th>\n",
              "      <td>78</td>\n",
              "      <td>26</td>\n",
              "    </tr>\n",
              "    <tr>\n",
              "      <th>predicted 1</th>\n",
              "      <td>21</td>\n",
              "      <td>43</td>\n",
              "    </tr>\n",
              "  </tbody>\n",
              "</table>\n",
              "</div>"
            ],
            "text/plain": [
              "             actual 0  actual 1\n",
              "predicted 0        78        26\n",
              "predicted 1        21        43"
            ]
          },
          "metadata": {
            "tags": []
          },
          "execution_count": 37
        }
      ]
    },
    {
      "cell_type": "code",
      "metadata": {
        "id": "_xa73lT1UHJC",
        "outputId": "b24473ea-5f8b-4998-e161-2617984a90d8",
        "colab": {
          "base_uri": "https://localhost:8080/",
          "height": 292
        }
      },
      "source": [
        "np_conf_matrix = confusion_matrix.to_numpy()\n",
        "plt.matshow(np_conf_matrix)"
      ],
      "execution_count": 38,
      "outputs": [
        {
          "output_type": "execute_result",
          "data": {
            "text/plain": [
              "<matplotlib.image.AxesImage at 0x7f99a8511860>"
            ]
          },
          "metadata": {
            "tags": []
          },
          "execution_count": 38
        },
        {
          "output_type": "display_data",
          "data": {
            "image/png": "[encoded data removed]",
            "text/plain": [
              "<Figure size 288x288 with 1 Axes>"
            ]
          },
          "metadata": {
            "tags": [],
            "needs_background": "light"
          }
        }
      ]
    },
    {
      "cell_type": "markdown",
      "metadata": {
        "id": "H6zWd58E3nCW"
      },
      "source": [
        "**ROC Curve**\n",
        "*   https://developers.google.com/machine-learning/crash-course/classification/roc-and-auc#:~:text=An%20ROC%20curve%20"
      ]
    },
    {
      "cell_type": "code",
      "metadata": {
        "id": "VOr6mp848bwb",
        "outputId": "d55bf64b-8284-4e4d-9366-73b2bb9490b6",
        "colab": {
          "base_uri": "https://localhost:8080/"
        }
      },
      "source": [
        "from sklearn.metrics import roc_curve, auc\n",
        "\n",
        "fpr, tpr, thresholds = roc_curve(y_true=test_labels, y_score=predicted, pos_label=1)\n",
        "print(\"fpr: \", fpr)\n",
        "print(\"tpr: \", tpr)\n",
        "print(\"thresholds: \", thresholds)"
      ],
      "execution_count": 42,
      "outputs": [
        {
          "output_type": "stream",
          "text": [
            "fpr:  [0.         0.21212121 1.        ]\n",
            "tpr:  [0.         0.62318841 1.        ]\n",
            "thresholds:  [2 1 0]\n"
          ],
          "name": "stdout"
        }
      ]
    },
    {
      "cell_type": "code",
      "metadata": {
        "id": "LfUMK2olVlCD",
        "outputId": "cab1342f-d485-425e-c736-7769a936126e",
        "colab": {
          "base_uri": "https://localhost:8080/",
          "height": 312
        }
      },
      "source": [
        "plt.plot(fpr, tpr)\n",
        "plt.title(\"ROC Curve\")\n",
        "plt.xlabel(\"FP Rate\")\n",
        "plt.ylabel(\"TP Rate\")"
      ],
      "execution_count": 43,
      "outputs": [
        {
          "output_type": "execute_result",
          "data": {
            "text/plain": [
              "Text(0, 0.5, 'TP Rate')"
            ]
          },
          "metadata": {
            "tags": []
          },
          "execution_count": 43
        },
        {
          "output_type": "display_data",
          "data": {
            "image/png": "[encoded data removed]",
            "text/plain": [
              "<Figure size 432x288 with 1 Axes>"
            ]
          },
          "metadata": {
            "tags": [],
            "needs_background": "light"
          }
        }
      ]
    },
    {
      "cell_type": "code",
      "metadata": {
        "id": "omBi66n5WJCj",
        "outputId": "d802d666-63bf-41e3-8072-b2c559f02ca8",
        "colab": {
          "base_uri": "https://localhost:8080/"
        }
      },
      "source": [
        "auc_value = auc(fpr, tpr)\n",
        "auc_value"
      ],
      "execution_count": 44,
      "outputs": [
        {
          "output_type": "execute_result",
          "data": {
            "text/plain": [
              "0.7055335968379447"
            ]
          },
          "metadata": {
            "tags": []
          },
          "execution_count": 44
        }
      ]
    },
    {
      "cell_type": "markdown",
      "metadata": {
        "id": "89GE37e527np"
      },
      "source": [
        "# **Potential Areas for Improvement**"
      ]
    },
    {
      "cell_type": "markdown",
      "metadata": {
        "id": "xqAPc04n3E5a"
      },
      "source": [
        "\n",
        "\n",
        "*   Merge retrieve + process steps for each image file instead of separately retrieving all image files, then starting processing\n",
        "*   Obtain more even distributions of low- and high-density images for ML\n",
        "*   Use image data generator to get one file at a time (if there are too many files to retrieve all at once)\n",
        "\n",
        "\n"
      ]
    },
    {
      "cell_type": "markdown",
      "metadata": {
        "id": "WaR7YwnBLyLn"
      },
      "source": [
        "\n",
        "# **Appendix: Code Documentation**"
      ]
    },
    {
      "cell_type": "markdown",
      "metadata": {
        "id": "YMcPgwlERiMO"
      },
      "source": [
        "**`resize_image(filepath, custom_shape, show=True, verbose=False)`**\n",
        "*   Inputs \n",
        "  * FILEPATH: string path of image file to resize\n",
        "  * CUSTOM_SHAPE: tuple of resized dimensions (e.g. (299, 299))\n",
        "  * [SHOW=True]: plot image before and after resizing\n",
        "  * [VERBOSE=False]: do not print intermediate progress\n",
        "*   Outputs\n",
        "  1. if DICOM, dataframe; if PNG, original image numpy array\n",
        "  2. resized array\n",
        "*  Functionality\n",
        "  * Resizes input image file to custom dimension and returns the original dataframe or image array and the resized array. \n",
        "\n",
        "\n",
        "**`save_to_npy(filepath, arr_data, verbose=False)`**\n",
        "*   Inputs\n",
        "  * FILEPATH: desired numpy filepath string (no extensions)\n",
        "  * ARR_DATA: numpy array to save in the numpy file\n",
        "  * [VERBOSE=False]: do not print intermediate progress\n",
        "*   Outputs\n",
        "  1. NPY_PATH: the full numpy filepath (with .npy extension)\n",
        "*   Functionality\n",
        "  * Saves input data to a numpy file using the desired filepath.\n",
        "\n",
        "\n",
        "**`save_to_npz(save_to, read_from, breast_density, verbose=False)`**\n",
        "*   Inputs\n",
        "  * SAVE_TO: desired numpyz filepath string (no extensions)\n",
        "  * READ_FROM: numpy filepath containing the resized image ndarray\n",
        "  * BREAST_DENSITY: integer\n",
        "  * [VERBOSE=False]: do not print intermediate progress\n",
        "*   Outputs\n",
        "    1. NPZ_PATH: the full numpyz path (with .npz extension)\n",
        "*   Functionality\n",
        "  * Saves input array and breast density to a new numpyz file.\n",
        "\n",
        "**`get_breast_density(df, patient_id)`**\n",
        "*  Inputs\n",
        "  * DF: dataframe from reading csv file (for breast density info)\n",
        "  * PATIENT_ID: patient id (attribute of dataset from reading DICOM file)\n",
        "*  Outputs\n",
        "    1. breast density (integer) of input patient\n",
        "*  Functionality\n",
        "  * Returns the breast density corresponding to PATIENT_ID\n",
        "\n",
        "\n",
        "**`main`**\n",
        "*  Inputs\n",
        "  * DIR: directory of image files to operate on\n",
        "  * [RESIZE_SHAPE=(229, 229)]: tuple of desired resizing dimensions\n",
        "  * [VERBOSE=False]: do not print intermediate progress\n",
        "*  Outputs\n",
        "  * 1. python array of training image pixel arrays\n",
        "  * 2. python array of training labels (*i*th label corresponds to the *i*th training image pixel array)\n",
        "  * 3. python array of testing image pixel arrays\n",
        "  * 4. python array of testing labels (*i*th label corresponds to the *i*th training image pixel array)\n",
        "*  Functionality\n",
        "  * For each DICOM file in DIR,\n",
        "    1. resize\n",
        "    2. save to numpy file\n",
        "    3. save to numpyz file with breast density information"
      ]
    }
  ]
}
