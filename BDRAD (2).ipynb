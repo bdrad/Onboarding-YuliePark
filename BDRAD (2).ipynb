{
  "nbformat": 4,
  "nbformat_minor": 0,
  "metadata": {
    "colab": {
      "name": "BDRAD.ipynb",
      "provenance": [],
      "collapsed_sections": []
    },
    "kernelspec": {
      "name": "python3",
      "display_name": "Python 3"
    }
  },
  "cells": [
    {
      "cell_type": "markdown",
      "metadata": {
        "id": "awvZrWXWQZPD"
      },
      "source": [
        "# **Setup**\n"
      ]
    },
    {
      "cell_type": "code",
      "metadata": {
        "id": "uV6MOKqIOQaQ",
        "outputId": "26990fe1-0ae1-4f14-db69-bd47320f6001",
        "colab": {
          "base_uri": "https://localhost:8080/"
        }
      },
      "source": [
        "!pip install pydicom"
      ],
      "execution_count": 134,
      "outputs": [
        {
          "output_type": "stream",
          "text": [
            "Requirement already satisfied: pydicom in /usr/local/lib/python3.6/dist-packages (2.1.1)\n"
          ],
          "name": "stdout"
        }
      ]
    },
    {
      "cell_type": "code",
      "metadata": {
        "id": "sQTtjXzwJh3S"
      },
      "source": [
        "import pydicom as pdm\n",
        "import skimage as sk\n",
        "import matplotlib.pyplot as plt\n",
        "import numpy as np\n",
        "import pandas as pd\n",
        "import tensorflow as tf\n",
        "import os\n",
        "import cv2\n",
        "\n",
        "from skimage.transform import resize\n",
        "from skimage.io import imread\n",
        "from tensorflow import keras\n",
        "from tensorflow.keras import layers\n",
        "from tensorflow.keras.models import Sequential"
      ],
      "execution_count": 135,
      "outputs": []
    },
    {
      "cell_type": "code",
      "metadata": {
        "id": "PggBthhEJskr",
        "outputId": "d4895e7b-eec6-4b2e-c2d5-9c64bff412c9",
        "colab": {
          "base_uri": "https://localhost:8080/",
          "height": 52
        }
      },
      "source": [
        "from google.colab import drive\n",
        "drive.mount('/content/gdrive')\n",
        "# drive.flush_and_unmount()\n",
        "os.chdir(\"/content/gdrive/My Drive/Colab Notebooks/data\")\n",
        "os.getcwd()"
      ],
      "execution_count": 136,
      "outputs": [
        {
          "output_type": "stream",
          "text": [
            "Drive already mounted at /content/gdrive; to attempt to forcibly remount, call drive.mount(\"/content/gdrive\", force_remount=True).\n"
          ],
          "name": "stdout"
        },
        {
          "output_type": "execute_result",
          "data": {
            "application/vnd.google.colaboratory.intrinsic+json": {
              "type": "string"
            },
            "text/plain": [
              "'/content/gdrive/My Drive/Colab Notebooks/data'"
            ]
          },
          "metadata": {
            "tags": []
          },
          "execution_count": 136
        }
      ]
    },
    {
      "cell_type": "markdown",
      "metadata": {
        "id": "mn7cUWVgQoFY"
      },
      "source": [
        "# **Part 1: Working with image files**\n",
        "*   Load DICOM or PNG file.\n",
        "*   Resize the image to user-specified dimensions (e.g. 229 x 229).\n",
        "*   Write the resized image to numpy .npy files.\n",
        "*   Combine the .npy files with breast density information. Store this into numpyz .npz files.\n",
        "\n"
      ]
    },
    {
      "cell_type": "code",
      "metadata": {
        "id": "8pCA9euFTlCe"
      },
      "source": [
        "def resize_image(filepath, custom_shape, verbose=False):\n",
        "  assert os.path.exists(filepath), \"ERROR: file \" + filepath + \" not found!\"\n",
        "\n",
        "  if filepath.endswith(\".png\"):\n",
        "    png_ndarray = imread(filepath)\n",
        "    print_msg(\"Resizing PNG file...\", verbose)\n",
        "    png_resized = resize(image=png_ndarray, output_shape=custom_shape, anti_aliasing=False)\n",
        "    print_msg(\"Success.\", verbose)\n",
        "    return (png_ndarray, png_resized)\n",
        "\n",
        "  else:\n",
        "    print_msg(\"Reading DICOM file...\", verbose)\n",
        "    dicom_dataset = pdm.dcmread(fp=filepath, defer_size=None, force=True)\n",
        "    if not filepath.endswith(\"dcm\"):\n",
        "      print_msg(\"Decompressing DICOM file...\", verbose)\n",
        "      dicom_dataset = dicom_dataset.decompress()\n",
        "    dicom_ndarray = dicom_dataset.pixel_array\n",
        "    # plt.imshow(dicom_ndarray, cmap=plt.cm.gray)\n",
        "    # plt.show()\n",
        "    print_msg(\"Success.\", verbose)\n",
        "\n",
        "    print_msg(\"Resizing DICOM file...\", verbose)\n",
        "    dicom_resized = resize(image=dicom_ndarray, output_shape=custom_shape, anti_aliasing=False)\n",
        "    print_msg(\"Success.\", verbose) \n",
        "    # plt.imshow(dicom_resized, cmap=plt.cm.gray)\n",
        "    # plt.show()\n",
        "\n",
        "    return (dicom_dataset, dicom_resized)"
      ],
      "execution_count": 137,
      "outputs": []
    },
    {
      "cell_type": "code",
      "metadata": {
        "id": "5LIqShYpbMht"
      },
      "source": [
        "def save_to_npy(save_to, arr_data, verbose=False):\n",
        "  print_msg(\"Saving to npy file...\", verbose)\n",
        "  npy_path = save_to + \".npy\"\n",
        "  np.save(npy_path, arr_data)\n",
        "  print_msg(\"Success.\", verbose)\n",
        "  return npy_path"
      ],
      "execution_count": 138,
      "outputs": []
    },
    {
      "cell_type": "code",
      "metadata": {
        "id": "ztEx2YT3TsY1"
      },
      "source": [
        "def save_to_npz(save_to, read_from, breast_density, verbose=False):\n",
        "  print_msg(\"Loading npy file \" + read_from + \"...\", verbose)\n",
        "  resized_arr = np.load(file=read_from, allow_pickle=False)\n",
        "  num_rows, num_cols = resized_arr.shape\n",
        "  print_msg(\"Success.\", verbose)\n",
        "\n",
        "  print_msg(\"Creating new data with breast_density ...\", verbose)\n",
        "  new_arr = np.zeros((num_rows + 1, num_cols))\n",
        "  for i in range(num_rows):\n",
        "    new_arr[i] = resized_arr[i,:]\n",
        "  new_arr[num_rows] = np.full(shape=(num_cols,), fill_value=breast_density)\n",
        "  print_msg(\"Success.\", verbose)\n",
        "\n",
        "  npz_path = save_to + \".npz\"\n",
        "  print_msg(\"Saving to npz file \" + npz_path + \"...\", verbose)\n",
        "  np.savez(npz_path, new_arr)\n",
        "  print_msg(\"Success.\", verbose)\n",
        "\n",
        "  return npz_path"
      ],
      "execution_count": 139,
      "outputs": []
    },
    {
      "cell_type": "code",
      "metadata": {
        "id": "MDdYjDBAbZ25"
      },
      "source": [
        "def get_patient_id(filepath):\n",
        "  i = filepath.index(\"P_\") + 2\n",
        "  patient_id = \"P_\"\n",
        "  while filepath[i].isnumeric():\n",
        "    patient_id += filepath[i]\n",
        "    i += 1\n",
        "  print(\"patient id is \" + patient_id)\n",
        "  return patient_id"
      ],
      "execution_count": 140,
      "outputs": []
    },
    {
      "cell_type": "code",
      "metadata": {
        "id": "lFM8HND8bcPp"
      },
      "source": [
        "def get_breast_density(df, patient_id):\n",
        "  breast_density = df.loc[patient_id, \"breast_density\"]\n",
        "  if breast_density.size > 1:\n",
        "    breast_density = breast_density[0]\n",
        "  return breast_density"
      ],
      "execution_count": 141,
      "outputs": []
    },
    {
      "cell_type": "code",
      "metadata": {
        "id": "8eE_wkWibeRT"
      },
      "source": [
        "def get_image_files(dir_path):\n",
        "  print(\"getting image files...\")\n",
        "  train_files = {}\n",
        "  test_files = {}\n",
        "  for root, dirs, files in os.walk(dir_path):\n",
        "    if files and files[0].endswith(\".dcm\"):\n",
        "      if \"Training\" in root:\n",
        "        train_files[root] = files[0]\n",
        "      elif \"Test\" in root:\n",
        "        test_files[root] = files[0]\n",
        "  print(\"done getting image files!\")\n",
        "  return (train_files, test_files)"
      ],
      "execution_count": 142,
      "outputs": []
    },
    {
      "cell_type": "code",
      "metadata": {
        "id": "JpOSbRJwbg8f"
      },
      "source": [
        "def get_scan_type(filepath):\n",
        "  scan_type = \"LEFT_\" if \"LEFT_\" in filepath else \"RIGHT_\"\n",
        "  scan_type += \"CC\" if \"CC\" in filepath else \"MLO\"\n",
        "  return scan_type"
      ],
      "execution_count": 143,
      "outputs": []
    },
    {
      "cell_type": "code",
      "metadata": {
        "id": "msNGCLJEb874"
      },
      "source": [
        "def print_msg(msg, verbose):\n",
        "  if verbose:\n",
        "    print(msg)"
      ],
      "execution_count": 144,
      "outputs": []
    },
    {
      "cell_type": "code",
      "metadata": {
        "id": "3d1OWj-5cGKg"
      },
      "source": [
        "def sort_npy_npz_files(dir):\n",
        "  npy_dir = os.path.join(dir, \"npy files\")\n",
        "  if not os.path.exists(npy_dir):\n",
        "    os.mkdir(npy_dir)\n",
        "  npz_dir = os.path.join(dir, \"npz files\")\n",
        "  if not os.path.exists(npz_dir):\n",
        "    os.mkdir(npz_dir)\n",
        "  for f in os.listdir(dir):\n",
        "    if f.endswith(\".npy\"):\n",
        "      os.rename(os.path.join(dir, f), os.path.join(dir, npy_dir, f))\n",
        "    elif f.endswith(\".npz\"):\n",
        "      os.rename(os.path.join(dir, f), os.path.join(dir, npz_dir, f))"
      ],
      "execution_count": 145,
      "outputs": []
    },
    {
      "cell_type": "code",
      "metadata": {
        "id": "Xk8ENoqVbiaA"
      },
      "source": [
        "def main_helper(files_dict, df, resize_shape=(229, 229), save=True, verbose=False):\n",
        "  \n",
        "  data = []\n",
        "  labels = []\n",
        "\n",
        "  for fpath in files_dict:\n",
        "    patient_id = get_patient_id(fpath)\n",
        "    scan_type = get_scan_type(fpath)\n",
        "    breast_density = get_breast_density(df, patient_id)\n",
        "    image_fp = files_dict[fpath]\n",
        "\n",
        "    dataset, resized_ndarray = resize_image(filepath=os.path.join(fpath, image_fp), custom_shape=resize_shape, verbose=verbose)\n",
        "    np_path = os.path.join(os.getcwd(), patient_id + \"_\" + scan_type)\n",
        "    npy_path = save_to_npy(save_to=np_path, arr_data=resized_ndarray, verbose=verbose)\n",
        "    npz_path = save_to_npz(save_to=np_path, read_from=npy_path, breast_density=breast_density)\n",
        "    sort_npy_npz_files(os.getcwd())\n",
        "\n",
        "    data.append(resized_ndarray)\n",
        "    labels.append(0 if breast_density <= 2 else 1) # not dense for 1, 2 ; dense for 3, 4\n",
        "\n",
        "  return (data, labels)"
      ],
      "execution_count": 146,
      "outputs": []
    },
    {
      "cell_type": "code",
      "metadata": {
        "id": "AbICoNezbkjg"
      },
      "source": [
        "def main(dir_path, resize_shape=(229, 229), save=True, verbose=False):\n",
        "  train_csv = os.path.join(os.getcwd(), \"mass_case_description_train_set.csv\")\n",
        "  test_csv = os.path.join(os.getcwd(), \"mass_case_description_test_set.csv\")\n",
        "  train_df = pd.read_csv(train_csv, index_col=\"patient_id\")\n",
        "  test_df = pd.read_csv(test_csv, index_col=\"patient_id\")\n",
        "\n",
        "  train_files, test_files = get_image_files(dir_path)\n",
        "\n",
        "  train_data, train_labels = main_helper(train_files, train_df, resize_shape, save, verbose)\n",
        "  test_data, test_labels = main_helper(test_files, test_df, resize_shape, save, verbose)\n",
        "  return (train_data, train_labels, test_data, test_labels)"
      ],
      "execution_count": 147,
      "outputs": []
    },
    {
      "cell_type": "markdown",
      "metadata": {
        "id": "Zf65aFCubuEv"
      },
      "source": [
        "# **Testing**"
      ]
    },
    {
      "cell_type": "code",
      "metadata": {
        "id": "1q8g9uEbA6AX",
        "outputId": "75771d6b-b8cb-4086-d93c-c5135ae0d809",
        "colab": {
          "base_uri": "https://localhost:8080/"
        }
      },
      "source": [
        "dir_path = os.getcwd()\n",
        "train_validation_data, train_validation_labels, test_data, test_labels = main(dir_path, verbose=False)"
      ],
      "execution_count": 148,
      "outputs": [
        {
          "output_type": "stream",
          "text": [
            "getting image files...\n",
            "done getting image files!\n",
            "patient id is P_00229\n",
            "patient id is P_00058\n",
            "patient id is P_00187\n",
            "patient id is P_00304\n",
            "patient id is P_00247\n",
            "patient id is P_00045\n",
            "patient id is P_00160\n",
            "patient id is P_00055\n",
            "patient id is P_00351\n",
            "patient id is P_00044\n",
            "patient id is P_00068\n",
            "patient id is P_00330\n",
            "patient id is P_00376\n",
            "patient id is P_00224\n",
            "patient id is P_00242\n",
            "patient id is P_00396\n",
            "patient id is P_00134\n",
            "patient id is P_00208\n",
            "patient id is P_00264\n",
            "patient id is P_00348\n",
            "patient id is P_00303\n",
            "patient id is P_00027\n",
            "patient id is P_00080\n",
            "patient id is P_00094\n",
            "patient id is P_00289\n",
            "patient id is P_00235\n",
            "patient id is P_00283\n",
            "patient id is P_00294\n",
            "patient id is P_00207\n",
            "patient id is P_00120\n",
            "patient id is P_00224\n",
            "patient id is P_00231\n",
            "patient id is P_00205\n",
            "patient id is P_00313\n",
            "patient id is P_00298\n",
            "patient id is P_00190\n",
            "patient id is P_00332\n",
            "patient id is P_00001\n",
            "patient id is P_00039\n",
            "patient id is P_00175\n",
            "patient id is P_00021\n",
            "patient id is P_00092\n",
            "patient id is P_00289\n",
            "patient id is P_00108\n",
            "patient id is P_00094\n",
            "patient id is P_00241\n",
            "patient id is P_00314\n",
            "patient id is P_00146\n",
            "patient id is P_00412\n",
            "patient id is P_00092\n",
            "patient id is P_00332\n",
            "patient id is P_00137\n",
            "patient id is P_00044\n",
            "patient id is P_00086\n",
            "patient id is P_00351\n",
            "patient id is P_00207\n",
            "patient id is P_00001\n",
            "patient id is P_00319\n",
            "patient id is P_00217\n",
            "patient id is P_00026\n",
            "patient id is P_00236\n",
            "patient id is P_00045\n",
            "patient id is P_00076\n",
            "patient id is P_00146\n",
            "patient id is P_00370\n",
            "patient id is P_00283\n",
            "patient id is P_00314\n",
            "patient id is P_00259\n",
            "patient id is P_00408\n",
            "patient id is P_00122\n",
            "patient id is P_00137\n",
            "patient id is P_00386\n",
            "patient id is P_00108\n",
            "patient id is P_00363\n",
            "patient id is P_00092\n",
            "patient id is P_00254\n",
            "patient id is P_00064\n",
            "patient id is P_00172\n",
            "patient id is P_00330\n",
            "patient id is P_00414\n",
            "patient id is P_00187\n",
            "patient id is P_00411\n",
            "patient id is P_00320\n",
            "patient id is P_00174\n",
            "patient id is P_00175\n",
            "patient id is P_00320\n",
            "patient id is P_00095\n",
            "patient id is P_00313\n",
            "patient id is P_00034\n",
            "patient id is P_00229\n",
            "patient id is P_00081\n",
            "patient id is P_00174\n",
            "patient id is P_00061\n",
            "patient id is P_00225\n",
            "patient id is P_00039\n",
            "patient id is P_00333\n",
            "patient id is P_00160\n",
            "patient id is P_00225\n",
            "patient id is P_00342\n",
            "patient id is P_00224\n",
            "patient id is P_00057\n",
            "patient id is P_00303\n",
            "patient id is P_00172\n",
            "patient id is P_00298\n",
            "patient id is P_00240\n",
            "patient id is P_00059\n",
            "patient id is P_00034\n",
            "patient id is P_00110\n",
            "patient id is P_00018\n",
            "patient id is P_00239\n",
            "patient id is P_00248\n",
            "patient id is P_00109\n",
            "patient id is P_00408\n",
            "patient id is P_00119\n",
            "patient id is P_00166\n",
            "patient id is P_00309\n",
            "patient id is P_00399\n",
            "patient id is P_00119\n",
            "patient id is P_00023\n",
            "patient id is P_00095\n",
            "patient id is P_00046\n",
            "patient id is P_00264\n",
            "patient id is P_00259\n",
            "patient id is P_00199\n",
            "patient id is P_00385\n",
            "patient id is P_00384\n",
            "patient id is P_00079\n",
            "patient id is P_00090\n",
            "patient id is P_00385\n",
            "patient id is P_00218\n",
            "patient id is P_00328\n",
            "patient id is P_00133\n",
            "patient id is P_00281\n",
            "patient id is P_00134\n",
            "patient id is P_00106\n",
            "patient id is P_00303\n",
            "patient id is P_00074\n",
            "patient id is P_00090\n",
            "patient id is P_00317\n",
            "patient id is P_00009\n",
            "patient id is P_00389\n",
            "patient id is P_00287\n",
            "patient id is P_00273\n",
            "patient id is P_00226\n",
            "patient id is P_00096\n",
            "patient id is P_00215\n",
            "patient id is P_00383\n",
            "patient id is P_00041\n",
            "patient id is P_00149\n",
            "patient id is P_00406\n",
            "patient id is P_00241\n",
            "patient id is P_00004\n",
            "patient id is P_00411\n",
            "patient id is P_00027\n",
            "patient id is P_00412\n",
            "patient id is P_00096\n",
            "patient id is P_00401\n",
            "patient id is P_00240\n",
            "patient id is P_00356\n",
            "patient id is P_00218\n",
            "patient id is P_00021\n",
            "patient id is P_00015\n",
            "patient id is P_00018\n",
            "patient id is P_00166\n",
            "patient id is P_00239\n",
            "patient id is P_00376\n",
            "patient id is P_00332\n",
            "patient id is P_00054\n",
            "patient id is P_00110\n",
            "patient id is P_00061\n",
            "patient id is P_00149\n",
            "patient id is P_00287\n",
            "patient id is P_00106\n",
            "patient id is P_00065\n",
            "patient id is P_00303\n",
            "patient id is P_00117\n",
            "patient id is P_00342\n",
            "patient id is P_00231\n",
            "patient id is P_00399\n",
            "patient id is P_00366\n",
            "patient id is P_00160\n",
            "patient id is P_00226\n",
            "patient id is P_00401\n",
            "patient id is P_00023\n",
            "patient id is P_00406\n",
            "patient id is P_00021\n",
            "patient id is P_00081\n",
            "patient id is P_00334\n",
            "patient id is P_00254\n",
            "patient id is P_00080\n",
            "patient id is P_00384\n",
            "patient id is P_00335\n",
            "patient id is P_00106\n",
            "patient id is P_00370\n",
            "patient id is P_00068\n",
            "patient id is P_00247\n",
            "patient id is P_00021\n",
            "patient id is P_00265\n",
            "patient id is P_00160\n",
            "patient id is P_00294\n",
            "patient id is P_00051\n",
            "patient id is P_00041\n",
            "patient id is P_00363\n",
            "patient id is P_00279\n",
            "patient id is P_00057\n",
            "patient id is P_00110\n",
            "patient id is P_00065\n",
            "patient id is P_00206\n",
            "patient id is P_00205\n",
            "patient id is P_00051\n",
            "patient id is P_00120\n",
            "patient id is P_00234\n",
            "patient id is P_00086\n",
            "patient id is P_00348\n",
            "patient id is P_00333\n",
            "patient id is P_00026\n",
            "patient id is P_00332\n",
            "patient id is P_00199\n",
            "patient id is P_00224\n",
            "patient id is P_00361\n",
            "patient id is P_00148\n",
            "patient id is P_00004\n",
            "patient id is P_00386\n",
            "patient id is P_00074\n",
            "patient id is P_00219\n",
            "patient id is P_00004\n",
            "patient id is P_00076\n",
            "patient id is P_00242\n",
            "patient id is P_00148\n",
            "patient id is P_00396\n",
            "patient id is P_00107\n",
            "patient id is P_00079\n",
            "patient id is P_00059\n",
            "patient id is P_00133\n",
            "patient id is P_00366\n",
            "patient id is P_00328\n",
            "patient id is P_00092\n",
            "patient id is P_00354\n",
            "patient id is P_00009\n",
            "patient id is P_00169\n",
            "patient id is P_00128\n",
            "patient id is P_00265\n",
            "patient id is P_00354\n",
            "patient id is P_00319\n",
            "patient id is P_00074\n",
            "patient id is P_00328\n",
            "patient id is P_00235\n",
            "patient id is P_00309\n",
            "patient id is P_00221\n",
            "patient id is P_00106\n",
            "patient id is P_00177\n",
            "patient id is P_00379\n",
            "patient id is P_00200\n",
            "patient id is P_00544\n",
            "patient id is P_00173\n",
            "patient id is P_00369\n",
            "patient id is P_00405\n",
            "patient id is P_00662\n",
            "patient id is P_00490\n",
            "patient id is P_00533\n",
            "patient id is P_00409\n",
            "patient id is P_00615\n",
            "patient id is P_00524\n",
            "patient id is P_00016\n",
            "patient id is P_00766\n",
            "patient id is P_00391\n",
            "patient id is P_00369\n",
            "patient id is P_00066\n",
            "patient id is P_00238\n",
            "patient id is P_00490\n",
            "patient id is P_00510\n",
            "patient id is P_00652\n",
            "patient id is P_00738\n",
            "patient id is P_00758\n",
            "patient id is P_00131\n",
            "patient id is P_00343\n",
            "patient id is P_00017\n",
            "patient id is P_00707\n",
            "patient id is P_00230\n",
            "patient id is P_00524\n",
            "patient id is P_00159\n",
            "patient id is P_00347\n",
            "patient id is P_00409\n",
            "patient id is P_00200\n",
            "patient id is P_00741\n",
            "patient id is P_00296\n",
            "patient id is P_00387\n",
            "patient id is P_00173\n",
            "patient id is P_00116\n",
            "patient id is P_00500\n",
            "patient id is P_00173\n",
            "patient id is P_00387\n",
            "patient id is P_00202\n",
            "patient id is P_00464\n",
            "patient id is P_00147\n",
            "patient id is P_00544\n",
            "patient id is P_00636\n",
            "patient id is P_00641\n",
            "patient id is P_00032\n",
            "patient id is P_00278\n",
            "patient id is P_00510\n",
            "patient id is P_00381\n",
            "patient id is P_00099\n",
            "patient id is P_00457\n",
            "patient id is P_00656\n",
            "patient id is P_00147\n",
            "patient id is P_00457\n",
            "patient id is P_00677\n",
            "patient id is P_00394\n",
            "patient id is P_00516\n",
            "patient id is P_00391\n",
            "patient id is P_00612\n",
            "patient id is P_00598\n",
            "patient id is P_00017\n",
            "patient id is P_00203\n",
            "patient id is P_00481\n",
            "patient id is P_00016\n",
            "patient id is P_00379\n",
            "patient id is P_00032\n",
            "patient id is P_00375\n",
            "patient id is P_00126\n",
            "patient id is P_00576\n",
            "patient id is P_00623\n",
            "patient id is P_00114\n",
            "patient id is P_00587\n",
            "patient id is P_00066\n",
            "patient id is P_00615\n",
            "patient id is P_00347\n",
            "patient id is P_00766\n",
            "patient id is P_00200\n",
            "patient id is P_00636\n",
            "patient id is P_00037\n",
            "patient id is P_00118\n",
            "patient id is P_00699\n",
            "patient id is P_00758\n",
            "patient id is P_00171\n",
            "patient id is P_00131\n",
            "patient id is P_00212\n",
            "patient id is P_00198\n",
            "patient id is P_00158\n",
            "patient id is P_00587\n",
            "patient id is P_00576\n",
            "patient id is P_00662\n",
            "patient id is P_00358\n",
            "patient id is P_00324\n",
            "patient id is P_00482\n",
            "patient id is P_00145\n",
            "patient id is P_00324\n",
            "patient id is P_00601\n",
            "patient id is P_00037\n",
            "patient id is P_00601\n",
            "patient id is P_00498\n",
            "patient id is P_00194\n",
            "patient id is P_00192\n",
            "patient id is P_00623\n",
            "patient id is P_00718\n",
            "patient id is P_00340\n",
            "patient id is P_00741\n",
            "patient id is P_00707\n",
            "patient id is P_00641\n",
            "patient id is P_00429\n",
            "patient id is P_00278\n",
            "patient id is P_00493\n",
            "patient id is P_00494\n",
            "patient id is P_00203\n",
            "patient id is P_00156\n",
            "patient id is P_00209\n",
            "patient id is P_00433\n",
            "patient id is P_00629\n",
            "patient id is P_00116\n",
            "patient id is P_00056\n",
            "patient id is P_00202\n",
            "patient id is P_00470\n",
            "patient id is P_00391\n",
            "patient id is P_00343\n",
            "patient id is P_00230\n",
            "patient id is P_00358\n",
            "patient id is P_00200\n",
            "patient id is P_00533\n",
            "patient id is P_00498\n",
            "patient id is P_00671\n",
            "patient id is P_00173\n",
            "patient id is P_00494\n",
            "patient id is P_00145\n",
            "patient id is P_00343\n",
            "patient id is P_00598\n",
            "patient id is P_00629\n",
            "patient id is P_00124\n",
            "patient id is P_00126\n",
            "patient id is P_00296\n",
            "patient id is P_00391\n",
            "patient id is P_00177\n",
            "patient id is P_00375\n",
            "patient id is P_00773\n",
            "patient id is P_00514\n",
            "patient id is P_00482\n",
            "patient id is P_00238\n",
            "patient id is P_00481\n",
            "patient id is P_00381\n",
            "patient id is P_00405\n",
            "patient id is P_00118\n",
            "patient id is P_00677\n",
            "patient id is P_00470\n",
            "patient id is P_00699\n",
            "patient id is P_00738\n",
            "patient id is P_00359\n",
            "patient id is P_00639\n",
            "patient id is P_00171\n",
            "patient id is P_00198\n",
            "patient id is P_00212\n",
            "patient id is P_00343\n",
            "patient id is P_00591\n",
            "patient id is P_00516\n",
            "patient id is P_00194\n",
            "patient id is P_00464\n",
            "patient id is P_00429\n",
            "patient id is P_00433\n",
            "patient id is P_00671\n"
          ],
          "name": "stdout"
        }
      ]
    },
    {
      "cell_type": "markdown",
      "metadata": {
        "id": "_IhDh3UxcbX1"
      },
      "source": [
        "# **Part 2: Machine Learning**"
      ]
    },
    {
      "cell_type": "markdown",
      "metadata": {
        "id": "pB1K5WvZ1pRf"
      },
      "source": [
        "**Partitioning Data**"
      ]
    },
    {
      "cell_type": "code",
      "metadata": {
        "id": "7Tj9zASDvrFk",
        "outputId": "4f472016-f0a2-43f5-d72e-425c7207babd",
        "colab": {
          "base_uri": "https://localhost:8080/"
        }
      },
      "source": [
        "data = np.asarray(train_validation_data)\n",
        "print(data.shape)"
      ],
      "execution_count": 149,
      "outputs": [
        {
          "output_type": "stream",
          "text": [
            "(250, 229, 229)\n"
          ],
          "name": "stdout"
        }
      ]
    },
    {
      "cell_type": "code",
      "metadata": {
        "id": "V1NYjH7Rvye5",
        "outputId": "44278065-7c1f-4f78-bebe-be2751412ad8",
        "colab": {
          "base_uri": "https://localhost:8080/"
        }
      },
      "source": [
        "labels = np.asarray(train_validation_labels)\n",
        "print(labels.shape)"
      ],
      "execution_count": 150,
      "outputs": [
        {
          "output_type": "stream",
          "text": [
            "(250,)\n"
          ],
          "name": "stdout"
        }
      ]
    },
    {
      "cell_type": "code",
      "metadata": {
        "id": "sTIeWLahx9lf",
        "outputId": "2b5e83cc-a34f-47f8-a1c9-2792f4f4bc63",
        "colab": {
          "base_uri": "https://localhost:8080/"
        }
      },
      "source": [
        "test_data = np.asarray(test_data)\n",
        "print(test_data.shape)"
      ],
      "execution_count": 151,
      "outputs": [
        {
          "output_type": "stream",
          "text": [
            "(168, 229, 229)\n"
          ],
          "name": "stdout"
        }
      ]
    },
    {
      "cell_type": "code",
      "metadata": {
        "id": "MKXa3MRDyDHy",
        "outputId": "7ed48ed2-de3b-4f27-b41c-04d587863a85",
        "colab": {
          "base_uri": "https://localhost:8080/"
        }
      },
      "source": [
        "test_labels = np.asarray(test_labels)\n",
        "print(test_labels.shape)"
      ],
      "execution_count": 152,
      "outputs": [
        {
          "output_type": "stream",
          "text": [
            "(168,)\n"
          ],
          "name": "stdout"
        }
      ]
    },
    {
      "cell_type": "code",
      "metadata": {
        "id": "Hcz1_CcpZCdm",
        "outputId": "44776a2d-144c-4eed-a960-d0942fb7180b",
        "colab": {
          "base_uri": "https://localhost:8080/"
        }
      },
      "source": [
        "train_data = data[:200, :, :]\n",
        "train_labels = labels[:200]\n",
        "num_train_high_density = np.count_nonzero(train_labels)\n",
        "print(\"train data shape: \", train_data.shape)\n",
        "print(\"train labels shape: \", train_labels.shape)\n",
        "print(\"low density: \", len(train_labels) - num_train_high_density)\n",
        "print(\"high density: \", num_train_high_density)\n",
        "print(\"===================\")\n",
        "\n",
        "validation_data = data[200:, :, :]\n",
        "validation_labels = labels[200:]\n",
        "num_validation_high_density = np.count_nonzero(validation_labels)\n",
        "print(\"validation data shape: \", validation_data.shape)\n",
        "print(\"validation labels shape: \", validation_labels.shape)\n",
        "print(\"low density: \", len(validation_labels) - num_validation_high_density)\n",
        "print(\"high density: \", num_validation_high_density)\n",
        "print(\"===================\")\n",
        "\n",
        "num_test_high_density = np.count_nonzero(test_labels)\n",
        "print(\"test data shape: \", test_data.shape)\n",
        "print(\"test labels shape: \", test_labels.shape)\n",
        "print(\"low density: \", len(test_labels) - num_test_high_density)\n",
        "print(\"high density: \", num_test_high_density)"
      ],
      "execution_count": 153,
      "outputs": [
        {
          "output_type": "stream",
          "text": [
            "train data shape:  (200, 229, 229)\n",
            "train labels shape:  (200,)\n",
            "low density:  134\n",
            "high density:  66\n",
            "===================\n",
            "validation data shape:  (50, 229, 229)\n",
            "validation labels shape:  (50,)\n",
            "low density:  31\n",
            "high density:  19\n",
            "===================\n",
            "test data shape:  (168, 229, 229)\n",
            "test labels shape:  (168,)\n",
            "low density:  99\n",
            "high density:  69\n"
          ],
          "name": "stdout"
        }
      ]
    },
    {
      "cell_type": "code",
      "metadata": {
        "id": "U3wFWb_iyhRt",
        "outputId": "75db4936-8b19-44d9-9944-bcd628a0fba9",
        "colab": {
          "base_uri": "https://localhost:8080/",
          "height": 269
        }
      },
      "source": [
        "plt.figure()\n",
        "plt.imshow(train_data[6])\n",
        "plt.colorbar()\n",
        "plt.grid(False)\n",
        "plt.show()"
      ],
      "execution_count": 175,
      "outputs": [
        {
          "output_type": "display_data",
          "data": {
            "image/png": "[encoded data removed]",
            "text/plain": [
              "<Figure size 432x288 with 2 Axes>"
            ]
          },
          "metadata": {
            "tags": [],
            "needs_background": "light"
          }
        }
      ]
    },
    {
      "cell_type": "code",
      "metadata": {
        "id": "kxQF0kad1YZc",
        "outputId": "a35762fc-3f4a-4783-b7be-d4b16e4b221c",
        "colab": {
          "base_uri": "https://localhost:8080/",
          "height": 589
        }
      },
      "source": [
        "plt.figure(figsize=(10,10))\n",
        "for i in range(25):\n",
        "    plt.subplot(5,5,i+1)\n",
        "    plt.xticks([])\n",
        "    plt.yticks([])\n",
        "    plt.grid(False)\n",
        "    plt.imshow(train_data[i], cmap=plt.cm.binary)\n",
        "    if train_labels[i] == 0:\n",
        "      plt.xlabel(\"low density\")\n",
        "    else:\n",
        "      plt.xlabel(\"high density\")\n",
        "plt.show()"
      ],
      "execution_count": 158,
      "outputs": [
        {
          "output_type": "display_data",
          "data": {
            "image/png": "[encoded data removed]",
            "text/plain": [
              "<Figure size 720x720 with 25 Axes>"
            ]
          },
          "metadata": {
            "tags": []
          }
        }
      ]
    },
    {
      "cell_type": "markdown",
      "metadata": {
        "id": "pBM0B7t81snk"
      },
      "source": [
        "**Setting Up Model**"
      ]
    },
    {
      "cell_type": "code",
      "metadata": {
        "id": "zYLkMYA4skXm"
      },
      "source": [
        "train_dataset = tf.data.Dataset.from_tensor_slices((train_data, train_labels))\n",
        "validation_dataset = tf.data.Dataset.from_tensor_slices((validation_data, validation_labels))\n",
        "test_dataset = tf.data.Dataset.from_tensor_slices((test_data, test_labels))"
      ],
      "execution_count": 196,
      "outputs": []
    },
    {
      "cell_type": "code",
      "metadata": {
        "id": "oBB_n07rtb4h"
      },
      "source": [
        "batch_size = 25                                                                    # ideal: 32, 64\n",
        "shuffle_buffer_size = 10\n",
        "train_dataset = train_dataset.shuffle(shuffle_buffer_size).batch(batch_size)\n",
        "validation_dataset = validation_dataset.shuffle(shuffle_buffer_size).batch(batch_size)\n",
        "test_dataset = test_dataset.batch(batch_size)"
      ],
      "execution_count": 197,
      "outputs": []
    },
    {
      "cell_type": "code",
      "metadata": {
        "id": "bOvgO-TB0lkD",
        "outputId": "24f5dfa3-6a1c-4e17-ef69-84c76d6cfdc5",
        "colab": {
          "base_uri": "https://localhost:8080/",
          "height": 388
        }
      },
      "source": [
        "# Citation: from tensorflow.org\n",
        "steps_per_epoch = 250/batch_size\n",
        "\n",
        "lr_schedule = tf.keras.optimizers.schedules.InverseTimeDecay(\n",
        "                    0.001, #increase\n",
        "                    decay_steps=steps_per_epoch*1000, # smaller steps\n",
        "                    decay_rate=1,\n",
        "                    staircase=False)\n",
        "\n",
        "def get_optimizer():\n",
        "  return tf.keras.optimizers.Adam(lr_schedule)\n",
        "\n",
        "step = np.linspace(0,100000)\n",
        "lr = lr_schedule(step)\n",
        "plt.figure(figsize = (8,6))\n",
        "plt.plot(step/steps_per_epoch, lr)\n",
        "plt.ylim([0,max(plt.ylim())])\n",
        "plt.xlabel('Epoch')\n",
        "_ = plt.ylabel('Learning Rate')"
      ],
      "execution_count": 198,
      "outputs": [
        {
          "output_type": "display_data",
          "data": {
            "image/png": "[encoded data removed]",
            "text/plain": [
              "<Figure size 576x432 with 1 Axes>"
            ]
          },
          "metadata": {
            "tags": [],
            "needs_background": "light"
          }
        }
      ]
    },
    {
      "cell_type": "code",
      "metadata": {
        "id": "Md5fGf-50pS5"
      },
      "source": [
        "model = tf.keras.Sequential([\n",
        "            tf.keras.layers.Flatten(input_shape=(229,229)),\n",
        "            tf.keras.layers.Dense(128, activation='relu'),\n",
        "            tf.keras.layers.Dense(64, activation='relu'),\n",
        "            tf.keras.layers.Dense(32, activation='relu'),\n",
        "            tf.keras.layers.Dense(2)\n",
        "])"
      ],
      "execution_count": 199,
      "outputs": []
    },
    {
      "cell_type": "markdown",
      "metadata": {
        "id": "dIeCczZX10Pn"
      },
      "source": [
        "**Training and Testing Model**"
      ]
    },
    {
      "cell_type": "code",
      "metadata": {
        "id": "3jMcoWiy1_AJ"
      },
      "source": [
        "model.compile(optimizer=get_optimizer(),\n",
        "              loss=tf.keras.losses.SparseCategoricalCrossentropy(from_logits=True),\n",
        "              metrics=['sparse_categorical_accuracy'])"
      ],
      "execution_count": 200,
      "outputs": []
    },
    {
      "cell_type": "code",
      "metadata": {
        "id": "kmbddEHz2Ao2",
        "outputId": "2570548f-8b64-4007-879f-3a82d261d0f9",
        "colab": {
          "base_uri": "https://localhost:8080/"
        }
      },
      "source": [
        "model.fit(x=train_data, y=train_labels, epochs=30, validation_data=validation_dataset, validation_steps=30)"
      ],
      "execution_count": 201,
      "outputs": [
        {
          "output_type": "stream",
          "text": [
            "Epoch 1/30\n",
            "6/7 [========================>.....] - ETA: 0s - loss: 2.7904 - sparse_categorical_accuracy: 0.6094WARNING:tensorflow:Your input ran out of data; interrupting training. Make sure that your dataset or generator can generate at least `steps_per_epoch * epochs` batches (in this case, 30 batches). You may need to use the repeat() function when building your dataset.\n",
            "7/7 [==============================] - 0s 61ms/step - loss: 2.8309 - sparse_categorical_accuracy: 0.6050 - val_loss: 1.6855 - val_sparse_categorical_accuracy: 0.4400\n",
            "Epoch 2/30\n",
            "7/7 [==============================] - 0s 40ms/step - loss: 1.1115 - sparse_categorical_accuracy: 0.5500\n",
            "Epoch 3/30\n",
            "7/7 [==============================] - 0s 40ms/step - loss: 0.7825 - sparse_categorical_accuracy: 0.6400\n",
            "Epoch 4/30\n",
            "7/7 [==============================] - 0s 40ms/step - loss: 0.9448 - sparse_categorical_accuracy: 0.6500\n",
            "Epoch 5/30\n",
            "7/7 [==============================] - 0s 37ms/step - loss: 0.8179 - sparse_categorical_accuracy: 0.6500\n",
            "Epoch 6/30\n",
            "7/7 [==============================] - 0s 39ms/step - loss: 0.5368 - sparse_categorical_accuracy: 0.7200\n",
            "Epoch 7/30\n",
            "7/7 [==============================] - 0s 39ms/step - loss: 0.5927 - sparse_categorical_accuracy: 0.6900\n",
            "Epoch 8/30\n",
            "7/7 [==============================] - 0s 39ms/step - loss: 0.5666 - sparse_categorical_accuracy: 0.7300\n",
            "Epoch 9/30\n",
            "7/7 [==============================] - 0s 39ms/step - loss: 0.4805 - sparse_categorical_accuracy: 0.7800\n",
            "Epoch 10/30\n",
            "7/7 [==============================] - 0s 42ms/step - loss: 0.3614 - sparse_categorical_accuracy: 0.8300\n",
            "Epoch 11/30\n",
            "7/7 [==============================] - 0s 40ms/step - loss: 0.3190 - sparse_categorical_accuracy: 0.8650\n",
            "Epoch 12/30\n",
            "7/7 [==============================] - 0s 39ms/step - loss: 0.3163 - sparse_categorical_accuracy: 0.8600\n",
            "Epoch 13/30\n",
            "7/7 [==============================] - 0s 38ms/step - loss: 0.2886 - sparse_categorical_accuracy: 0.8650\n",
            "Epoch 14/30\n",
            "7/7 [==============================] - 0s 38ms/step - loss: 0.3046 - sparse_categorical_accuracy: 0.8550\n",
            "Epoch 15/30\n",
            "7/7 [==============================] - 0s 38ms/step - loss: 0.2529 - sparse_categorical_accuracy: 0.8900\n",
            "Epoch 16/30\n",
            "7/7 [==============================] - 0s 37ms/step - loss: 0.2194 - sparse_categorical_accuracy: 0.9300\n",
            "Epoch 17/30\n",
            "7/7 [==============================] - 0s 40ms/step - loss: 0.2064 - sparse_categorical_accuracy: 0.9200\n",
            "Epoch 18/30\n",
            "7/7 [==============================] - 0s 39ms/step - loss: 0.1740 - sparse_categorical_accuracy: 0.9250\n",
            "Epoch 19/30\n",
            "7/7 [==============================] - 0s 38ms/step - loss: 0.1702 - sparse_categorical_accuracy: 0.9500\n",
            "Epoch 20/30\n",
            "7/7 [==============================] - 0s 39ms/step - loss: 0.2079 - sparse_categorical_accuracy: 0.9450\n",
            "Epoch 21/30\n",
            "7/7 [==============================] - 0s 38ms/step - loss: 0.1734 - sparse_categorical_accuracy: 0.9300\n",
            "Epoch 22/30\n",
            "7/7 [==============================] - 0s 41ms/step - loss: 0.2988 - sparse_categorical_accuracy: 0.8800\n",
            "Epoch 23/30\n",
            "7/7 [==============================] - 0s 42ms/step - loss: 0.4191 - sparse_categorical_accuracy: 0.8250\n",
            "Epoch 24/30\n",
            "7/7 [==============================] - 0s 41ms/step - loss: 0.3481 - sparse_categorical_accuracy: 0.8600\n",
            "Epoch 25/30\n",
            "7/7 [==============================] - 0s 44ms/step - loss: 0.2188 - sparse_categorical_accuracy: 0.9100\n",
            "Epoch 26/30\n",
            "7/7 [==============================] - 0s 40ms/step - loss: 0.2166 - sparse_categorical_accuracy: 0.9200\n",
            "Epoch 27/30\n",
            "7/7 [==============================] - 0s 39ms/step - loss: 0.1940 - sparse_categorical_accuracy: 0.9200\n",
            "Epoch 28/30\n",
            "7/7 [==============================] - 0s 40ms/step - loss: 0.1298 - sparse_categorical_accuracy: 0.9350\n",
            "Epoch 29/30\n",
            "7/7 [==============================] - 0s 39ms/step - loss: 0.1650 - sparse_categorical_accuracy: 0.9450\n",
            "Epoch 30/30\n",
            "7/7 [==============================] - 0s 40ms/step - loss: 0.0706 - sparse_categorical_accuracy: 0.9850\n"
          ],
          "name": "stdout"
        },
        {
          "output_type": "execute_result",
          "data": {
            "text/plain": [
              "<tensorflow.python.keras.callbacks.History at 0x7f546490c748>"
            ]
          },
          "metadata": {
            "tags": []
          },
          "execution_count": 201
        }
      ]
    },
    {
      "cell_type": "code",
      "metadata": {
        "id": "BBV0ENIMt3ZH",
        "outputId": "449d69ee-e4cf-47a4-bbba-9ee917431647",
        "colab": {
          "base_uri": "https://localhost:8080/"
        }
      },
      "source": [
        "model.evaluate(x=test_data, y=test_labels, batch_size=4)\n",
        "results = model.predict(test_dataset, steps=30)\n",
        "\n",
        "print(results.shape)\n",
        "print(results)"
      ],
      "execution_count": 202,
      "outputs": [
        {
          "output_type": "stream",
          "text": [
            "42/42 [==============================] - 0s 6ms/step - loss: 0.9345 - sparse_categorical_accuracy: 0.6548\n",
            "WARNING:tensorflow:Your input ran out of data; interrupting training. Make sure that your dataset or generator can generate at least `steps_per_epoch * epochs` batches (in this case, 30 batches). You may need to use the repeat() function when building your dataset.\n",
            "(168, 2)\n",
            "[[10.580313  12.365217 ]\n",
            " [10.147294   4.0829716]\n",
            " [12.803524  10.737033 ]\n",
            " [12.373322   7.2319736]\n",
            " [10.740754   5.3125706]\n",
            " [ 6.6356955  7.8556557]\n",
            " [13.758889  13.483312 ]\n",
            " [ 7.5332813  7.216631 ]\n",
            " [11.935007  11.803395 ]\n",
            " [10.833063  11.174646 ]\n",
            " [ 3.7038686  4.4551926]\n",
            " [11.042625   3.4072864]\n",
            " [ 5.9597535 -4.4331903]\n",
            " [ 8.335281   7.943799 ]\n",
            " [10.359593   7.4761114]\n",
            " [ 6.536871  10.463059 ]\n",
            " [11.190569   7.7032943]\n",
            " [ 1.0168445  8.003859 ]\n",
            " [ 6.497919   5.8239393]\n",
            " [ 8.998271   7.717577 ]\n",
            " [10.93258   10.9182825]\n",
            " [ 7.498181   7.3049846]\n",
            " [11.023717   6.638737 ]\n",
            " [ 7.4446626  5.2456403]\n",
            " [ 8.640357  -2.981695 ]\n",
            " [11.486508   7.2601485]\n",
            " [ 8.307021   5.5943923]\n",
            " [14.252152   6.785776 ]\n",
            " [14.908771  12.413869 ]\n",
            " [ 7.8326216 -7.7431636]\n",
            " [ 7.5904164  4.3265467]\n",
            " [ 6.3921413 -1.4391782]\n",
            " [ 8.345405   5.0794396]\n",
            " [ 7.36845   11.130338 ]\n",
            " [ 6.5222178  0.9373822]\n",
            " [ 9.483939   7.6180325]\n",
            " [ 6.821807   6.212641 ]\n",
            " [ 9.364397   6.973384 ]\n",
            " [11.992648   7.6604915]\n",
            " [14.078141  11.33652  ]\n",
            " [ 6.3639545  5.1168976]\n",
            " [ 7.2168336  5.6050878]\n",
            " [18.905264  11.112287 ]\n",
            " [11.891372   6.6204104]\n",
            " [ 8.692813   8.265782 ]\n",
            " [ 9.36374    4.7593927]\n",
            " [13.584744   6.858474 ]\n",
            " [15.563212   7.1344366]\n",
            " [ 4.742559   7.01359  ]\n",
            " [13.381535   3.1952012]\n",
            " [ 6.5241528  5.1729026]\n",
            " [11.623343   7.980777 ]\n",
            " [17.586094  10.328583 ]\n",
            " [12.465204  10.1468115]\n",
            " [16.399239  15.612385 ]\n",
            " [ 6.4695587 -3.2866113]\n",
            " [16.459728  15.385963 ]\n",
            " [12.399726  10.377992 ]\n",
            " [ 8.982531   8.875175 ]\n",
            " [13.242638  15.17916  ]\n",
            " [ 9.49178    8.736223 ]\n",
            " [ 7.995273   6.16866  ]\n",
            " [10.622421   9.82841  ]\n",
            " [12.664945  13.672246 ]\n",
            " [ 2.586621  10.814254 ]\n",
            " [11.569918   6.582011 ]\n",
            " [ 8.134247  12.442815 ]\n",
            " [13.566922  11.023597 ]\n",
            " [ 7.2966876  9.752177 ]\n",
            " [14.532509   7.37947  ]\n",
            " [16.570364  16.337702 ]\n",
            " [22.660484   5.3280153]\n",
            " [11.893024  11.770193 ]\n",
            " [ 9.494686   7.0700994]\n",
            " [10.977107  -2.0210521]\n",
            " [ 8.55202    5.0750976]\n",
            " [ 7.6933346  7.217246 ]\n",
            " [ 9.981412   5.732736 ]\n",
            " [11.665603   8.415334 ]\n",
            " [ 5.1344566  8.581794 ]\n",
            " [14.04648   11.05918  ]\n",
            " [ 7.7084594  6.932497 ]\n",
            " [14.137245  19.179688 ]\n",
            " [16.801962   6.5260787]\n",
            " [10.204827   8.653926 ]\n",
            " [15.009379  12.751161 ]\n",
            " [ 6.931696   8.05847  ]\n",
            " [ 2.3086343  6.0003834]\n",
            " [ 5.6033077  3.3798578]\n",
            " [10.607606   7.2203407]\n",
            " [ 7.6550264  7.904767 ]\n",
            " [17.898012   3.944091 ]\n",
            " [ 7.124665   3.6855333]\n",
            " [ 9.899848   6.5043883]\n",
            " [11.259137   6.894918 ]\n",
            " [ 7.915608   6.680446 ]\n",
            " [ 9.033804   4.698791 ]\n",
            " [ 3.405866   5.102789 ]\n",
            " [14.514602  17.640348 ]\n",
            " [ 1.3431299  4.994793 ]\n",
            " [11.215059  10.735583 ]\n",
            " [ 9.499544   7.1777897]\n",
            " [ 6.018204   8.092925 ]\n",
            " [ 1.283644   5.762251 ]\n",
            " [11.524138   7.4452143]\n",
            " [10.067252   9.644547 ]\n",
            " [ 6.486853   6.3083224]\n",
            " [ 7.751669   8.232726 ]\n",
            " [17.739296   8.162277 ]\n",
            " [20.26111   10.288814 ]\n",
            " [ 9.565987   7.8011312]\n",
            " [11.813038   8.880701 ]\n",
            " [16.414793  11.967089 ]\n",
            " [ 9.680996   5.234354 ]\n",
            " [ 9.386557  13.994931 ]\n",
            " [ 6.1070557  6.2992325]\n",
            " [11.228432   0.6451402]\n",
            " [13.296943  13.707657 ]\n",
            " [ 5.0214314  6.2665215]\n",
            " [12.079377   9.756394 ]\n",
            " [ 8.874782  13.381686 ]\n",
            " [19.035328   5.9477496]\n",
            " [10.303844   7.0080996]\n",
            " [18.617212  18.503067 ]\n",
            " [ 9.625556   8.646524 ]\n",
            " [13.760177  14.928173 ]\n",
            " [17.146662  11.885466 ]\n",
            " [ 3.581217   6.6794696]\n",
            " [ 7.954523   8.454467 ]\n",
            " [ 7.107054   9.16964  ]\n",
            " [ 9.542717   5.710067 ]\n",
            " [ 5.6308007  5.6932254]\n",
            " [ 6.511818   5.011352 ]\n",
            " [11.690942  10.5773535]\n",
            " [12.31263    6.368533 ]\n",
            " [ 9.993202   9.599042 ]\n",
            " [ 8.192517   6.3713336]\n",
            " [15.047533  12.587442 ]\n",
            " [17.468706  18.50992  ]\n",
            " [18.549088  16.766903 ]\n",
            " [ 2.0077455  6.7027407]\n",
            " [11.595819   2.9143574]\n",
            " [13.366956  10.248239 ]\n",
            " [ 8.716381   8.068684 ]\n",
            " [11.581726   9.656409 ]\n",
            " [ 7.1223574  6.51831  ]\n",
            " [ 7.3786635  3.2187862]\n",
            " [12.935757  10.212865 ]\n",
            " [ 8.659063   1.1622303]\n",
            " [10.368558   9.126233 ]\n",
            " [16.284142  12.354813 ]\n",
            " [11.760921   6.005102 ]\n",
            " [16.599525   4.33661  ]\n",
            " [ 5.8609195  9.590767 ]\n",
            " [11.249978   8.961605 ]\n",
            " [ 8.322012   7.504957 ]\n",
            " [ 9.985228   8.956818 ]\n",
            " [10.102811   4.887575 ]\n",
            " [ 7.948582   0.2848408]\n",
            " [ 2.8787625  7.595115 ]\n",
            " [ 8.039209  10.368511 ]\n",
            " [13.667121   4.9896603]\n",
            " [ 9.791339   9.195277 ]\n",
            " [ 6.7390733  6.016737 ]\n",
            " [13.286953  12.687694 ]\n",
            " [10.892242   6.2950106]\n",
            " [10.562829   6.9469748]\n",
            " [12.325451   8.001489 ]]\n"
          ],
          "name": "stdout"
        }
      ]
    },
    {
      "cell_type": "markdown",
      "metadata": {
        "id": "QV1NfYzW6wN0"
      },
      "source": [
        "**Process Test Results**"
      ]
    },
    {
      "cell_type": "code",
      "metadata": {
        "id": "432sSFWv2d4G",
        "outputId": "edc8fb45-8591-4e13-8605-5539ad3f8635",
        "colab": {
          "base_uri": "https://localhost:8080/"
        }
      },
      "source": [
        "tf.nn.softmax(results)"
      ],
      "execution_count": 203,
      "outputs": [
        {
          "output_type": "execute_result",
          "data": {
            "text/plain": [
              "<tf.Tensor: shape=(168, 2), dtype=float32, numpy=\n",
              "array([[1.43698588e-01, 8.56301427e-01],\n",
              "       [9.97681022e-01, 2.31894222e-03],\n",
              "       [8.87603343e-01, 1.12396613e-01],\n",
              "       [9.94184196e-01, 5.81577839e-03],\n",
              "       [9.95628119e-01, 4.37186752e-03],\n",
              "       [2.27943450e-01, 7.72056520e-01],\n",
              "       [5.68461657e-01, 4.31538343e-01],\n",
              "       [5.78507721e-01, 4.21492279e-01],\n",
              "       [5.32855570e-01, 4.67144459e-01],\n",
              "       [4.15424943e-01, 5.84575057e-01],\n",
              "       [3.20532918e-01, 6.79467142e-01],\n",
              "       [9.99517202e-01, 4.82841715e-04],\n",
              "       [9.99969363e-01, 3.06470247e-05],\n",
              "       [5.96639514e-01, 4.03360516e-01],\n",
              "       [9.47023809e-01, 5.29761761e-02],\n",
              "       [1.93373803e-02, 9.80662644e-01],\n",
              "       [9.70323503e-01, 2.96764821e-02],\n",
              "       [9.22948529e-04, 9.99077082e-01],\n",
              "       [6.62393689e-01, 3.37606281e-01],\n",
              "       [7.82567859e-01, 2.17432097e-01],\n",
              "       [5.03574312e-01, 4.96425688e-01],\n",
              "       [5.48149407e-01, 4.51850593e-01],\n",
              "       [9.87690330e-01, 1.23097245e-02],\n",
              "       [9.00161624e-01, 9.98383164e-02],\n",
              "       [9.99991059e-01, 8.96608799e-06],\n",
              "       [9.85604823e-01, 1.43952128e-02],\n",
              "       [9.37767744e-01, 6.22322559e-02],\n",
              "       [9.99428332e-01, 5.71670302e-04],\n",
              "       [9.23783660e-01, 7.62163699e-02],\n",
              "       [9.99999881e-01, 1.71997698e-07],\n",
              "       [9.63168383e-01, 3.68316844e-02],\n",
              "       [9.99603093e-01, 3.96943418e-04],\n",
              "       [9.63242590e-01, 3.67574282e-02],\n",
              "       [2.27120072e-02, 9.77287948e-01],\n",
              "       [9.96259689e-01, 3.74032487e-03],\n",
              "       [8.65983963e-01, 1.34016067e-01],\n",
              "       [6.47750556e-01, 3.52249414e-01],\n",
              "       [9.16139424e-01, 8.38605613e-02],\n",
              "       [9.87031281e-01, 1.29687823e-02],\n",
              "       [9.39438403e-01, 6.05616122e-02],\n",
              "       [7.76790023e-01, 2.23210007e-01],\n",
              "       [8.33653629e-01, 1.66346371e-01],\n",
              "       [9.99587595e-01, 4.12452384e-04],\n",
              "       [9.94887650e-01, 5.11239795e-03],\n",
              "       [6.05164349e-01, 3.94835591e-01],\n",
              "       [9.90090966e-01, 9.90906078e-03],\n",
              "       [9.98802423e-01, 1.19756022e-03],\n",
              "       [9.99781549e-01, 2.18441084e-04],\n",
              "       [9.35507566e-02, 9.06449258e-01],\n",
              "       [9.99962330e-01, 3.76803691e-05],\n",
              "       [7.94333935e-01, 2.05666065e-01],\n",
              "       [9.74483132e-01, 2.55168881e-02],\n",
              "       [9.99295592e-01, 7.04363687e-04],\n",
              "       [9.10388887e-01, 8.96110907e-02],\n",
              "       [6.87155366e-01, 3.12844604e-01],\n",
              "       [9.99942064e-01, 5.79327207e-05],\n",
              "       [7.45312214e-01, 2.54687786e-01],\n",
              "       [8.83060277e-01, 1.16939791e-01],\n",
              "       [5.26813030e-01, 4.73186970e-01],\n",
              "       [1.26030385e-01, 8.73969555e-01],\n",
              "       [6.80388331e-01, 3.19611639e-01],\n",
              "       [8.61357749e-01, 1.38642266e-01],\n",
              "       [6.88691914e-01, 3.11308026e-01],\n",
              "       [2.67508328e-01, 7.32491732e-01],\n",
              "       [2.67096737e-04, 9.99732912e-01],\n",
              "       [9.93226230e-01, 6.77373121e-03],\n",
              "       [1.32742245e-02, 9.86725807e-01],\n",
              "       [9.27123845e-01, 7.28761703e-02],\n",
              "       [7.90380314e-02, 9.20961976e-01],\n",
              "       [9.99218106e-01, 7.81870738e-04],\n",
              "       [5.57904601e-01, 4.42095459e-01],\n",
              "       [1.00000000e+00, 2.96895735e-08],\n",
              "       [5.30669272e-01, 4.69330698e-01],\n",
              "       [9.18683052e-01, 8.13169405e-02],\n",
              "       [9.99997735e-01, 2.26448833e-06],\n",
              "       [9.70023930e-01, 2.99760364e-02],\n",
              "       [6.16823852e-01, 3.83176208e-01],\n",
              "       [9.85917985e-01, 1.40819997e-02],\n",
              "       [9.62682784e-01, 3.73172238e-02],\n",
              "       [3.08483727e-02, 9.69151616e-01],\n",
              "       [9.51997101e-01, 4.80029285e-02],\n",
              "       [6.84809268e-01, 3.15190732e-01],\n",
              "       [6.41651917e-03, 9.93583500e-01],\n",
              "       [9.99965549e-01, 3.44529108e-05],\n",
              "       [8.25043857e-01, 1.74956113e-01],\n",
              "       [9.05357122e-01, 9.46428850e-02],\n",
              "       [2.44756967e-01, 7.55243003e-01],\n",
              "       [2.43220534e-02, 9.75677967e-01],\n",
              "       [9.02335584e-01, 9.76643488e-02],\n",
              "       [9.67304170e-01, 3.26958373e-02],\n",
              "       [4.37887341e-01, 5.62112629e-01],\n",
              "       [9.99999166e-01, 8.70740223e-07],\n",
              "       [9.68905330e-01, 3.10946386e-02],\n",
              "       [9.67562377e-01, 3.24376635e-02],\n",
              "       [9.87435222e-01, 1.25647048e-02],\n",
              "       [7.74720728e-01, 2.25279287e-01],\n",
              "       [9.87067759e-01, 1.29322708e-02],\n",
              "       [1.54867560e-01, 8.45132470e-01],\n",
              "       [4.20576297e-02, 9.57942307e-01],\n",
              "       [2.52916720e-02, 9.74708319e-01],\n",
              "       [6.17624104e-01, 3.82375866e-01],\n",
              "       [9.10662711e-01, 8.93372148e-02],\n",
              "       [1.11578211e-01, 8.88421774e-01],\n",
              "       [1.12218503e-02, 9.88778174e-01],\n",
              "       [9.83355999e-01, 1.66439544e-02],\n",
              "       [6.04130268e-01, 3.95869732e-01],\n",
              "       [5.44514477e-01, 4.55485463e-01],\n",
              "       [3.82002532e-01, 6.17997468e-01],\n",
              "       [9.99930739e-01, 6.92984540e-05],\n",
              "       [9.99953270e-01, 4.66730598e-05],\n",
              "       [8.53816748e-01, 1.46183282e-01],\n",
              "       [9.49422061e-01, 5.05779944e-02],\n",
              "       [9.88430023e-01, 1.15699768e-02],\n",
              "       [9.88417923e-01, 1.15821334e-02],\n",
              "       [9.86962672e-03, 9.90130365e-01],\n",
              "       [4.52103108e-01, 5.47896862e-01],\n",
              "       [9.99974608e-01, 2.53351609e-05],\n",
              "       [3.98740888e-01, 6.01259112e-01],\n",
              "       [2.23551244e-01, 7.76448786e-01],\n",
              "       [9.10762668e-01, 8.92373398e-02],\n",
              "       [1.09121678e-02, 9.89087820e-01],\n",
              "       [9.99997973e-01, 2.07079120e-06],\n",
              "       [9.64282513e-01, 3.57174501e-02],\n",
              "       [5.28505385e-01, 4.71494645e-01],\n",
              "       [7.26916015e-01, 2.73083985e-01],\n",
              "       [2.37217337e-01, 7.62782693e-01],\n",
              "       [9.94837701e-01, 5.16230660e-03],\n",
              "       [4.31793965e-02, 9.56820607e-01],\n",
              "       [3.77553880e-01, 6.22446120e-01],\n",
              "       [1.12786859e-01, 8.87213111e-01],\n",
              "       [9.78806794e-01, 2.11932790e-02],\n",
              "       [4.84398901e-01, 5.15601099e-01],\n",
              "       [8.17643940e-01, 1.82356045e-01],\n",
              "       [7.52797544e-01, 2.47202531e-01],\n",
              "       [9.97385561e-01, 2.61441618e-03],\n",
              "       [5.97283781e-01, 4.02716160e-01],\n",
              "       [8.60708058e-01, 1.39291897e-01],\n",
              "       [9.21296299e-01, 7.87037686e-02],\n",
              "       [2.60915816e-01, 7.39084125e-01],\n",
              "       [8.55966449e-01, 1.44033596e-01],\n",
              "       [9.05811414e-03, 9.90941823e-01],\n",
              "       [9.99830246e-01, 1.69673920e-04],\n",
              "       [9.57658231e-01, 4.23417576e-02],\n",
              "       [6.56491399e-01, 3.43508601e-01],\n",
              "       [8.72730136e-01, 1.27269849e-01],\n",
              "       [6.46581769e-01, 3.53418320e-01],\n",
              "       [9.84630406e-01, 1.53695615e-02],\n",
              "       [9.38363969e-01, 6.16360009e-02],\n",
              "       [9.99445498e-01, 5.54531172e-04],\n",
              "       [7.75968432e-01, 2.24031582e-01],\n",
              "       [9.80722070e-01, 1.92779154e-02],\n",
              "       [9.96845663e-01, 3.15433485e-03],\n",
              "       [9.99995232e-01, 4.72368947e-06],\n",
              "       [2.34341584e-02, 9.76565838e-01],\n",
              "       [9.07909513e-01, 9.20904949e-02],\n",
              "       [6.93610787e-01, 3.06389213e-01],\n",
              "       [7.36607552e-01, 2.63392478e-01],\n",
              "       [9.94596183e-01, 5.40379295e-03],\n",
              "       [9.99530673e-01, 4.69326915e-04],\n",
              "       [8.86840373e-03, 9.91131604e-01],\n",
              "       [8.87250900e-02, 9.11274910e-01],\n",
              "       [9.99829650e-01, 1.70354149e-04],\n",
              "       [6.44754767e-01, 3.55245233e-01],\n",
              "       [6.73121274e-01, 3.26878726e-01],\n",
              "       [6.45486891e-01, 3.54513168e-01],\n",
              "       [9.90020871e-01, 9.97911301e-03],\n",
              "       [9.73810375e-01, 2.61895992e-02],\n",
              "       [9.86925960e-01, 1.30740954e-02]], dtype=float32)>"
            ]
          },
          "metadata": {
            "tags": []
          },
          "execution_count": 203
        }
      ]
    },
    {
      "cell_type": "code",
      "metadata": {
        "id": "C0MbPOkt62OQ",
        "outputId": "90763913-4d43-43b8-98e1-2930a88bd79d",
        "colab": {
          "base_uri": "https://localhost:8080/"
        }
      },
      "source": [
        "predicted_densities = tf.math.argmax(input=results, axis=1)\n",
        "predicted_densities"
      ],
      "execution_count": 204,
      "outputs": [
        {
          "output_type": "execute_result",
          "data": {
            "text/plain": [
              "<tf.Tensor: shape=(168,), dtype=int64, numpy=\n",
              "array([1, 0, 0, 0, 0, 1, 0, 0, 0, 1, 1, 0, 0, 0, 0, 1, 0, 1, 0, 0, 0, 0,\n",
              "       0, 0, 0, 0, 0, 0, 0, 0, 0, 0, 0, 1, 0, 0, 0, 0, 0, 0, 0, 0, 0, 0,\n",
              "       0, 0, 0, 0, 1, 0, 0, 0, 0, 0, 0, 0, 0, 0, 0, 1, 0, 0, 0, 1, 1, 0,\n",
              "       1, 0, 1, 0, 0, 0, 0, 0, 0, 0, 0, 0, 0, 1, 0, 0, 1, 0, 0, 0, 1, 1,\n",
              "       0, 0, 1, 0, 0, 0, 0, 0, 0, 1, 1, 1, 0, 0, 1, 1, 0, 0, 0, 1, 0, 0,\n",
              "       0, 0, 0, 0, 1, 1, 0, 1, 1, 0, 1, 0, 0, 0, 0, 1, 0, 1, 1, 1, 0, 1,\n",
              "       0, 0, 0, 0, 0, 0, 1, 0, 1, 0, 0, 0, 0, 0, 0, 0, 0, 0, 0, 0, 0, 1,\n",
              "       0, 0, 0, 0, 0, 1, 1, 0, 0, 0, 0, 0, 0, 0])>"
            ]
          },
          "metadata": {
            "tags": []
          },
          "execution_count": 204
        }
      ]
    },
    {
      "cell_type": "code",
      "metadata": {
        "id": "pvkQM_mS7G-Q",
        "outputId": "f6fcf730-afa8-46fb-c0fd-17be584732b2",
        "colab": {
          "base_uri": "https://localhost:8080/"
        }
      },
      "source": [
        "np_predicted = tf.make_tensor_proto(predicted_densities)  # convert `tensor a` to a proto tensor\n",
        "np_predicted = tf.make_ndarray(np_predicted)\n",
        "np_predicted"
      ],
      "execution_count": 205,
      "outputs": [
        {
          "output_type": "execute_result",
          "data": {
            "text/plain": [
              "array([1, 0, 0, 0, 0, 1, 0, 0, 0, 1, 1, 0, 0, 0, 0, 1, 0, 1, 0, 0, 0, 0,\n",
              "       0, 0, 0, 0, 0, 0, 0, 0, 0, 0, 0, 1, 0, 0, 0, 0, 0, 0, 0, 0, 0, 0,\n",
              "       0, 0, 0, 0, 1, 0, 0, 0, 0, 0, 0, 0, 0, 0, 0, 1, 0, 0, 0, 1, 1, 0,\n",
              "       1, 0, 1, 0, 0, 0, 0, 0, 0, 0, 0, 0, 0, 1, 0, 0, 1, 0, 0, 0, 1, 1,\n",
              "       0, 0, 1, 0, 0, 0, 0, 0, 0, 1, 1, 1, 0, 0, 1, 1, 0, 0, 0, 1, 0, 0,\n",
              "       0, 0, 0, 0, 1, 1, 0, 1, 1, 0, 1, 0, 0, 0, 0, 1, 0, 1, 1, 1, 0, 1,\n",
              "       0, 0, 0, 0, 0, 0, 1, 0, 1, 0, 0, 0, 0, 0, 0, 0, 0, 0, 0, 0, 0, 1,\n",
              "       0, 0, 0, 0, 0, 1, 1, 0, 0, 0, 0, 0, 0, 0])"
            ]
          },
          "metadata": {
            "tags": []
          },
          "execution_count": 205
        }
      ]
    },
    {
      "cell_type": "markdown",
      "metadata": {
        "id": "E7emfh0t2WXl"
      },
      "source": [
        "# **Part 3: Confusion Matrix and ROC Curve**"
      ]
    },
    {
      "cell_type": "markdown",
      "metadata": {
        "id": "VPxwLK_a22zZ"
      },
      "source": [
        "**Confusion Matrix**\n",
        "\n",
        "https://en.wikipedia.org/wiki/Confusion_matrix\n",
        "  \n",
        "\n",
        "```\n",
        "                  actual 0        actual 1    \n",
        "predicted 0   true_zero (TP)   false_zero (FP)\n",
        "predicted 1   false_one (FN)   true_one (TN)  \n",
        "```"
      ]
    },
    {
      "cell_type": "code",
      "metadata": {
        "id": "RjLiR5sZAICS"
      },
      "source": [
        "actual = test_labels\n",
        "predicted = np_predicted\n",
        "true_zero = 0\n",
        "true_one = 0\n",
        "false_one = 0\n",
        "false_zero = 0\n",
        "for i in range(len(predicted)):\n",
        "  if actual[i] == predicted[i]:\n",
        "    if actual[i] == 0:\n",
        "      true_zero += 1\n",
        "    else:\n",
        "      true_one += 1\n",
        "  else:\n",
        "    if actual[i] == 0 and predicted[i] == 1:\n",
        "      false_one += 1\n",
        "    else:\n",
        "      false_zero += 1"
      ],
      "execution_count": 206,
      "outputs": []
    },
    {
      "cell_type": "code",
      "metadata": {
        "id": "T0ZnGxUXUE5A",
        "outputId": "bf2eeae3-2f85-4ef1-aa31-fae0d1067d98",
        "colab": {
          "base_uri": "https://localhost:8080/",
          "height": 111
        }
      },
      "source": [
        "data_dict = { \"actual 0\" : [true_zero, false_one], \"actual 1\" : [false_zero, true_one]}\n",
        "confusion_matrix = pd.DataFrame(data_dict, index=[\"predicted 0\", \"predicted 1\"])\n",
        "confusion_matrix"
      ],
      "execution_count": 207,
      "outputs": [
        {
          "output_type": "execute_result",
          "data": {
            "text/html": [
              "<div>\n",
              "<style scoped>\n",
              "    .dataframe tbody tr th:only-of-type {\n",
              "        vertical-align: middle;\n",
              "    }\n",
              "\n",
              "    .dataframe tbody tr th {\n",
              "        vertical-align: top;\n",
              "    }\n",
              "\n",
              "    .dataframe thead th {\n",
              "        text-align: right;\n",
              "    }\n",
              "</style>\n",
              "<table border=\"1\" class=\"dataframe\">\n",
              "  <thead>\n",
              "    <tr style=\"text-align: right;\">\n",
              "      <th></th>\n",
              "      <th>actual 0</th>\n",
              "      <th>actual 1</th>\n",
              "    </tr>\n",
              "  </thead>\n",
              "  <tbody>\n",
              "    <tr>\n",
              "      <th>predicted 0</th>\n",
              "      <td>85</td>\n",
              "      <td>44</td>\n",
              "    </tr>\n",
              "    <tr>\n",
              "      <th>predicted 1</th>\n",
              "      <td>14</td>\n",
              "      <td>25</td>\n",
              "    </tr>\n",
              "  </tbody>\n",
              "</table>\n",
              "</div>"
            ],
            "text/plain": [
              "             actual 0  actual 1\n",
              "predicted 0        85        44\n",
              "predicted 1        14        25"
            ]
          },
          "metadata": {
            "tags": []
          },
          "execution_count": 207
        }
      ]
    },
    {
      "cell_type": "code",
      "metadata": {
        "id": "_xa73lT1UHJC",
        "outputId": "4dae6fc4-b6c8-4034-bd79-419136731814",
        "colab": {
          "base_uri": "https://localhost:8080/",
          "height": 292
        }
      },
      "source": [
        "np_conf_matrix = confusion_matrix.to_numpy()\n",
        "plt.matshow(np_conf_matrix)"
      ],
      "execution_count": 208,
      "outputs": [
        {
          "output_type": "execute_result",
          "data": {
            "text/plain": [
              "<matplotlib.image.AxesImage at 0x7f54649555c0>"
            ]
          },
          "metadata": {
            "tags": []
          },
          "execution_count": 208
        },
        {
          "output_type": "display_data",
          "data": {
            "image/png": "[encoded data removed]",
            "text/plain": [
              "<Figure size 288x288 with 1 Axes>"
            ]
          },
          "metadata": {
            "tags": [],
            "needs_background": "light"
          }
        }
      ]
    },
    {
      "cell_type": "markdown",
      "metadata": {
        "id": "H6zWd58E3nCW"
      },
      "source": [
        "**ROC Curve**\n",
        "*   https://developers.google.com/machine-learning/crash-course/classification/roc-and-auc#:~:text=An%20ROC%20curve%20"
      ]
    },
    {
      "cell_type": "code",
      "metadata": {
        "id": "VOr6mp848bwb",
        "outputId": "0f9f3c75-7903-4809-f495-8518310660af",
        "colab": {
          "base_uri": "https://localhost:8080/"
        }
      },
      "source": [
        "from sklearn.metrics import roc_curve\n",
        "\n",
        "true_pos_rate = true_zero / (true_zero + false_one)\n",
        "false_pos_rate = false_zero / (false_zero + true_one)\n",
        "print(true_pos_rate)\n",
        "print(false_pos_rate)\n",
        "\n",
        "fpr, tpr, thresholds = roc_curve(y_true=test_labels, y_score=predicted, pos_label=1)\n",
        "print(fpr)\n",
        "print(tpr)\n",
        "print(thresholds)"
      ],
      "execution_count": 210,
      "outputs": [
        {
          "output_type": "stream",
          "text": [
            "0.8585858585858586\n",
            "0.6376811594202898\n",
            "[0.         0.14141414 1.        ]\n",
            "[0.         0.36231884 1.        ]\n",
            "[2 1 0]\n"
          ],
          "name": "stdout"
        }
      ]
    },
    {
      "cell_type": "code",
      "metadata": {
        "id": "LfUMK2olVlCD",
        "outputId": "2b4b729b-7956-4c0c-eafc-32bcbcd9f292",
        "colab": {
          "base_uri": "https://localhost:8080/",
          "height": 312
        }
      },
      "source": [
        "plt.plot(fpr, tpr)\n",
        "plt.title(\"ROC Curve\")\n",
        "plt.xlabel(\"FP Rate\")\n",
        "plt.ylabel(\"TP Rate\")"
      ],
      "execution_count": 213,
      "outputs": [
        {
          "output_type": "execute_result",
          "data": {
            "text/plain": [
              "Text(0, 0.5, 'TP Rate')"
            ]
          },
          "metadata": {
            "tags": []
          },
          "execution_count": 213
        },
        {
          "output_type": "display_data",
          "data": {
            "image/png": "[encoded data removed]",
            "text/plain": [
              "<Figure size 432x288 with 1 Axes>"
            ]
          },
          "metadata": {
            "tags": [],
            "needs_background": "light"
          }
        }
      ]
    },
    {
      "cell_type": "code",
      "metadata": {
        "id": "omBi66n5WJCj"
      },
      "source": [
        "AUC"
      ],
      "execution_count": null,
      "outputs": []
    },
    {
      "cell_type": "markdown",
      "metadata": {
        "id": "89GE37e527np"
      },
      "source": [
        "# **Potential Areas for Improvement**"
      ]
    },
    {
      "cell_type": "markdown",
      "metadata": {
        "id": "xqAPc04n3E5a"
      },
      "source": [
        "\n",
        "\n",
        "*   Merge retrieve + process steps for each image file instead of separately retrieving all image files, then starting processing\n",
        "*   Obtain more even distributions of low- and high-density images for ML\n",
        "*   Use image data generator to get one file at a time (if there are too many files to retrieve all at once)\n",
        "\n",
        "\n"
      ]
    },
    {
      "cell_type": "markdown",
      "metadata": {
        "id": "WaR7YwnBLyLn"
      },
      "source": [
        "\n",
        "# **Appendix: Code Documentation**"
      ]
    },
    {
      "cell_type": "markdown",
      "metadata": {
        "id": "YMcPgwlERiMO"
      },
      "source": [
        "**`resize_image(filepath, custom_shape, show=True, verbose=False)`**\n",
        "*   Inputs \n",
        "  * FILEPATH: string path of image file to resize\n",
        "  * CUSTOM_SHAPE: tuple of resized dimensions (e.g. (299, 299))\n",
        "  * [SHOW=True]: plot image before and after resizing\n",
        "  * [VERBOSE=False]: do not print intermediate progress\n",
        "*   Outputs\n",
        "  1. if DICOM, dataframe; if PNG, original image numpy array\n",
        "  2. resized array\n",
        "*  Functionality\n",
        "  * Resizes input image file to custom dimension and returns the original dataframe or image array and the resized array. \n",
        "\n",
        "\n",
        "**`save_to_npy(filepath, arr_data, verbose=False)`**\n",
        "*   Inputs\n",
        "  * FILEPATH: desired numpy filepath string (no extensions)\n",
        "  * ARR_DATA: numpy array to save in the numpy file\n",
        "  * [VERBOSE=False]: do not print intermediate progress\n",
        "*   Outputs\n",
        "  1. NPY_PATH: the full numpy filepath (with .npy extension)\n",
        "*   Functionality\n",
        "  * Saves input data to a numpy file using the desired filepath.\n",
        "\n",
        "\n",
        "**`save_to_npz(save_to, read_from, breast_density, verbose=False)`**\n",
        "*   Inputs\n",
        "  * SAVE_TO: desired numpyz filepath string (no extensions)\n",
        "  * READ_FROM: numpy filepath containing the resized image ndarray\n",
        "  * BREAST_DENSITY: integer\n",
        "  * [VERBOSE=False]: do not print intermediate progress\n",
        "*   Outputs\n",
        "    1. NPZ_PATH: the full numpyz path (with .npz extension)\n",
        "*   Functionality\n",
        "  * Saves input array and breast density to a new numpyz file.\n",
        "\n",
        "**`get_breast_density(df, patient_id)`**\n",
        "*  Inputs\n",
        "  * DF: dataframe from reading csv file (for breast density info)\n",
        "  * PATIENT_ID: patient id (attribute of dataset from reading DICOM file)\n",
        "*  Outputs\n",
        "    1. breast density (integer) of input patient\n",
        "*  Functionality\n",
        "  * Returns the breast density corresponding to PATIENT_ID\n",
        "\n",
        "\n",
        "**`main`**\n",
        "*  Inputs\n",
        "  * DIR: directory of image files to operate on\n",
        "  * [RESIZE_SHAPE=(229, 229)]: tuple of desired resizing dimensions\n",
        "  * [VERBOSE=False]: do not print intermediate progress\n",
        "*  Outputs\n",
        "  * 1. python array of training image pixel arrays\n",
        "  * 2. python array of training labels (*i*th label corresponds to the *i*th training image pixel array)\n",
        "  * 3. python array of testing image pixel arrays\n",
        "  * 4. python array of testing labels (*i*th label corresponds to the *i*th training image pixel array)\n",
        "*  Functionality\n",
        "  * For each DICOM file in DIR,\n",
        "    1. resize\n",
        "    2. save to numpy file\n",
        "    3. save to numpyz file with breast density information"
      ]
    }
  ]
}